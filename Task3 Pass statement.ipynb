{
 "cells": [
  {
   "cell_type": "markdown",
   "id": "2c1a0319-62fa-4822-a171-f3c0e5e4c96a",
   "metadata": {},
   "source": [
    "#The pass statement is used as a placeholder for future code.\n",
    "#When the pass statement is executed, nothing happens, but you avoid getting an error when empty code is not allowed.\n",
    "#Empty code is not allowed in loops, function definitions, class definitions, or in if statements."
   ]
  },
  {
   "cell_type": "code",
   "execution_count": 2,
   "id": "14835f2e-6dcb-4ff3-864a-ce574d78ea56",
   "metadata": {},
   "outputs": [],
   "source": [
    "#Example1\n",
    "#Using the pass keyword in an if statement:\n",
    "\n",
    "a = 44\n",
    "b = 200\n",
    "\n",
    "if b > a:\n",
    "  pass"
   ]
  },
  {
   "cell_type": "code",
   "execution_count": 4,
   "id": "9d92da1f-0f92-46f4-b8ef-35f942919217",
   "metadata": {},
   "outputs": [],
   "source": [
    "#Example2\n",
    "for x in [0, 1, 2]:\n",
    "  pass\n"
   ]
  },
  {
   "cell_type": "code",
   "execution_count": 6,
   "id": "bbedf428-2ad7-4d74-81de-b16e67e04f54",
   "metadata": {},
   "outputs": [],
   "source": [
    "#Example3\n",
    "#Using the pass keyword in a function definition:\n",
    "\n",
    "def myfunction():\n",
    "  pass"
   ]
  },
  {
   "cell_type": "code",
   "execution_count": null,
   "id": "bbc33598-78f8-46d2-8281-c7ade266eed2",
   "metadata": {},
   "outputs": [],
   "source": []
  }
 ],
 "metadata": {
  "kernelspec": {
   "display_name": "Python 3 (ipykernel)",
   "language": "python",
   "name": "python3"
  },
  "language_info": {
   "codemirror_mode": {
    "name": "ipython",
    "version": 3
   },
   "file_extension": ".py",
   "mimetype": "text/x-python",
   "name": "python",
   "nbconvert_exporter": "python",
   "pygments_lexer": "ipython3",
   "version": "3.11.7"
  }
 },
 "nbformat": 4,
 "nbformat_minor": 5
}
