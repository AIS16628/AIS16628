{
 "cells": [
  {
   "cell_type": "code",
   "execution_count": 1,
   "id": "79ca5160-dc23-42ae-a715-7debe7e881bc",
   "metadata": {},
   "outputs": [],
   "source": [
    "#Continue statement\n",
    "#The continue keyword is used to end the current iteration in a for loop (or a while loop), and continues to the next iteration."
   ]
  },
  {
   "cell_type": "code",
   "execution_count": 3,
   "id": "fb882f05-7896-4f9d-93cb-9c4f18f212ec",
   "metadata": {},
   "outputs": [
    {
     "name": "stdout",
     "output_type": "stream",
     "text": [
      "1\n",
      "3\n",
      "4\n",
      "5\n",
      "6\n"
     ]
    }
   ],
   "source": [
    "#Example1\n",
    "#Use the continue keyword in a while loop:\n",
    "\n",
    "i = 0\n",
    "while i < 6:\n",
    "  i += 1\n",
    "  if i == 2:\n",
    "    continue\n",
    "  print(i)"
   ]
  },
  {
   "cell_type": "code",
   "execution_count": 7,
   "id": "d106d9cb-8789-4dfd-86f7-a9931f8c2295",
   "metadata": {},
   "outputs": [
    {
     "name": "stdout",
     "output_type": "stream",
     "text": [
      "aniruddhh\n",
      "om\n"
     ]
    }
   ],
   "source": [
    "#Example2\n",
    "#Do not print akash:\n",
    "\n",
    "names = [\"aniruddhh\", \"akash\", \"om\"]\n",
    "for x in names:\n",
    "  if x == \"akash\":\n",
    "    continue\n",
    "  print(x)"
   ]
  },
  {
   "cell_type": "code",
   "execution_count": 9,
   "id": "170bda85-c6a3-48a4-919c-9df53fe4a5c4",
   "metadata": {},
   "outputs": [
    {
     "name": "stdout",
     "output_type": "stream",
     "text": [
      "0\n",
      "1\n",
      "2\n",
      "3\n",
      "5\n",
      "6\n",
      "7\n",
      "8\n"
     ]
    }
   ],
   "source": [
    "#Example3\n",
    "#Skip the iteration if the variable i is 4, but continue with the next iteration:\n",
    "\n",
    "for i in range(9):\n",
    "  if i == 4:\n",
    "    continue\n",
    "  print(i)\n"
   ]
  },
  {
   "cell_type": "code",
   "execution_count": null,
   "id": "20bb183d-0eaa-4120-84af-7fe9d9a4036d",
   "metadata": {},
   "outputs": [],
   "source": []
  }
 ],
 "metadata": {
  "kernelspec": {
   "display_name": "Python 3 (ipykernel)",
   "language": "python",
   "name": "python3"
  },
  "language_info": {
   "codemirror_mode": {
    "name": "ipython",
    "version": 3
   },
   "file_extension": ".py",
   "mimetype": "text/x-python",
   "name": "python",
   "nbconvert_exporter": "python",
   "pygments_lexer": "ipython3",
   "version": "3.11.7"
  }
 },
 "nbformat": 4,
 "nbformat_minor": 5
}
