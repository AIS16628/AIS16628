{
 "cells": [
  {
   "cell_type": "code",
   "execution_count": 1,
   "id": "1a7fb52b-57a4-46b9-a597-3a78a094be2e",
   "metadata": {},
   "outputs": [
    {
     "name": "stdout",
     "output_type": "stream",
     "text": [
      "a and b are equal\n"
     ]
    }
   ],
   "source": [
    "#Elif\n",
    "#The elif keyword is Python's way of saying \"if the previous conditions were not true, then try this condition\".\n",
    "\n",
    "#Example\n",
    "a = 33\n",
    "b = 33\n",
    "if b > a:\n",
    "  print(\"b is greater than a\")\n",
    "elif a == b:\n",
    "  print(\"a and b are equal\")\n"
   ]
  },
  {
   "cell_type": "code",
   "execution_count": 3,
   "id": "3282c625-a929-499f-8d7b-c63ab6405448",
   "metadata": {},
   "outputs": [
    {
     "name": "stdout",
     "output_type": "stream",
     "text": [
      "b is less than a\n"
     ]
    }
   ],
   "source": [
    "#Example\n",
    "a = 20\n",
    "b = 10\n",
    "if b > a:\n",
    "  print(\"b is greater than a\")\n",
    "elif b < a:\n",
    "  print(\"b is less than a\")"
   ]
  },
  {
   "cell_type": "code",
   "execution_count": 5,
   "id": "24edded1-7a41-489c-9d20-17c8ad021501",
   "metadata": {},
   "outputs": [
    {
     "name": "stdout",
     "output_type": "stream",
     "text": [
      "a and b are equal\n"
     ]
    }
   ],
   "source": [
    "#Example\n",
    "a = 44\n",
    "b = 44\n",
    "if b != a:\n",
    "  print(\"b is not equal to a\")\n",
    "elif a == b:\n",
    "  print(\"a and b are equal\")"
   ]
  },
  {
   "cell_type": "code",
   "execution_count": 7,
   "id": "c541eacc-a28c-4786-9da1-646204710310",
   "metadata": {},
   "outputs": [
    {
     "name": "stdout",
     "output_type": "stream",
     "text": [
      "b is not equal to a\n"
     ]
    }
   ],
   "source": [
    "#Example\n",
    "a = 44\n",
    "b = 46\n",
    "if b != a:\n",
    "  print(\"b is not equal to a\")\n",
    "elif a >= b:\n",
    "  print(\"a is greater than equal to b\")\n"
   ]
  },
  {
   "cell_type": "code",
   "execution_count": 9,
   "id": "c0ddd16b-6889-4a76-831d-7ca242362be5",
   "metadata": {},
   "outputs": [
    {
     "name": "stdout",
     "output_type": "stream",
     "text": [
      "a is greater than equal to b\n"
     ]
    }
   ],
   "source": [
    "#Example\n",
    "a = 46\n",
    "b = 46\n",
    "if b != a:\n",
    "  print(\"b is not equal to a\")\n",
    "elif a >= b:\n",
    "  print(\"a is greater than equal to b\")"
   ]
  },
  {
   "cell_type": "code",
   "execution_count": 11,
   "id": "8aed89e7-1a2e-42d3-b466-8ff881ccb8cf",
   "metadata": {},
   "outputs": [
    {
     "name": "stdout",
     "output_type": "stream",
     "text": [
      "sum is correct\n"
     ]
    }
   ],
   "source": [
    "#Example\n",
    "a = 100\n",
    "b = 10\n",
    "if (a+b== 110):\n",
    "  print(\"sum is correct\")\n",
    "elif (a+b != 110):\n",
    "  print(\"sum is wrong\")"
   ]
  },
  {
   "cell_type": "code",
   "execution_count": 13,
   "id": "8ca20cf8-2081-4589-8d20-4feb4f921b33",
   "metadata": {},
   "outputs": [
    {
     "name": "stdout",
     "output_type": "stream",
     "text": [
      "Good\n"
     ]
    }
   ],
   "source": [
    "#Example\n",
    "marks=72\n",
    "if marks >= 90:\n",
    "    print(\"Excellent\")\n",
    "elif marks >= 75:\n",
    "    print(\"Very Good\")\n",
    "elif marks >= 60:\n",
    "    print(\"Good\")\n",
    "elif marks >= 50:\n",
    "    print(\"Pass\")"
   ]
  },
  {
   "cell_type": "code",
   "execution_count": 15,
   "id": "adba7979-5571-43d5-9e4e-42d46b9b59f2",
   "metadata": {},
   "outputs": [
    {
     "name": "stdout",
     "output_type": "stream",
     "text": [
      "Within limit\n"
     ]
    }
   ],
   "source": [
    "#Example\n",
    "speed = 45\n",
    "if speed > 70:\n",
    "    print(\"Speeding - Fine applicable\")\n",
    "elif speed > 60:\n",
    "    print(\"Above limit,but no fine\")\n",
    "elif speed > 40:\n",
    "    print(\"Within limit\")\n",
    "elif speed > 20:\n",
    "    print(\"Below limit\")"
   ]
  },
  {
   "cell_type": "code",
   "execution_count": 17,
   "id": "18a7239e-d805-4df5-83e7-bdc8ffe28248",
   "metadata": {},
   "outputs": [
    {
     "name": "stdout",
     "output_type": "stream",
     "text": [
      "z is greater than 40 but less than 50\n",
      "z is greater than 30 but less than or equal to 30\n"
     ]
    }
   ],
   "source": [
    "#Example\n",
    "z = 45\n",
    "if z > 50:\n",
    "    print(\"z is greater than 50\")\n",
    "if z > 40:\n",
    "    print(\"z is greater than 40 but less than 50\")\n",
    "if z > 30:\n",
    "    print(\"z is greater than 30 but less than or equal to 30\")\n",
    "    "
   ]
  },
  {
   "cell_type": "code",
   "execution_count": 21,
   "id": "41a119ad-de7e-4e9e-adf4-ced2db125c9a",
   "metadata": {},
   "outputs": [
    {
     "name": "stdout",
     "output_type": "stream",
     "text": [
      "sum is wrong\n"
     ]
    }
   ],
   "source": [
    "#Example\n",
    "a = 100\n",
    "b = 10\n",
    "if (a-b== 100):\n",
    "  print(\"sum is correct\")\n",
    "elif (a-b != 100):\n",
    "  print(\"sum is wrong\")"
   ]
  },
  {
   "cell_type": "code",
   "execution_count": 1,
   "id": "fe7436f2-09c8-4484-a933-56dbc384d50b",
   "metadata": {},
   "outputs": [
    {
     "name": "stdout",
     "output_type": "stream",
     "text": [
      "a is greater than b\n"
     ]
    }
   ],
   "source": [
    "#Example\n",
    "a = 200\n",
    "b = 33\n",
    "if b > a:\n",
    "  print(\"b is greater than a\")\n",
    "elif a == b:\n",
    "  print(\"a and b are equal\")\n",
    "else:\n",
    "  print(\"a is greater than b\")"
   ]
  },
  {
   "cell_type": "code",
   "execution_count": null,
   "id": "9cd50552-60a6-4e86-900c-3b6fb5ac2ea5",
   "metadata": {},
   "outputs": [],
   "source": []
  }
 ],
 "metadata": {
  "kernelspec": {
   "display_name": "Python 3 (ipykernel)",
   "language": "python",
   "name": "python3"
  },
  "language_info": {
   "codemirror_mode": {
    "name": "ipython",
    "version": 3
   },
   "file_extension": ".py",
   "mimetype": "text/x-python",
   "name": "python",
   "nbconvert_exporter": "python",
   "pygments_lexer": "ipython3",
   "version": "3.11.7"
  }
 },
 "nbformat": 4,
 "nbformat_minor": 5
}
