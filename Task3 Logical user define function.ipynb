{
 "cells": [
  {
   "cell_type": "code",
   "execution_count": 7,
   "id": "e09737bc-b6ff-471f-9179-18218f747d34",
   "metadata": {},
   "outputs": [
    {
     "name": "stdin",
     "output_type": "stream",
     "text": [
      "Enter a number : 16\n"
     ]
    },
    {
     "name": "stdout",
     "output_type": "stream",
     "text": [
      "The number is Even\n"
     ]
    }
   ],
   "source": [
    "#odd even\n",
    "def odd_even(num):\n",
    "    if num % 2 ==0:\n",
    "        return(\"Even\")\n",
    "    else:\n",
    "        return(\"odd\")\n",
    "num = int(input(\"Enter a number :\"))\n",
    "print(f\"The number is {odd_even(num)}\")          "
   ]
  },
  {
   "cell_type": "code",
   "execution_count": 11,
   "id": "947af5f4-6c44-4a25-a50a-3e2e2ec648d9",
   "metadata": {},
   "outputs": [
    {
     "name": "stdin",
     "output_type": "stream",
     "text": [
      "Enter a number: 83.60\n"
     ]
    },
    {
     "name": "stdout",
     "output_type": "stream",
     "text": [
      "The grades for score is :B\n"
     ]
    }
   ],
   "source": [
    "# Grades\n",
    "def grades(score):\n",
    "    if score >= 90:\n",
    "        return(\"A\")\n",
    "    elif score >= 80:\n",
    "        return(\"B\")\n",
    "    elif score >= 70:\n",
    "        return(\"C\")\n",
    "    elif score >= 60:\n",
    "        return(\"D\")\n",
    "    else:\n",
    "        return(\"F\")\n",
    "score=float(input(\"Enter a number:\"))\n",
    "print(f\"The grades for score is :{grades(score)}\")\n",
    "        "
   ]
  },
  {
   "cell_type": "code",
   "execution_count": 1,
   "id": "41e162ab-0480-4d19-9668-422c9675a475",
   "metadata": {},
   "outputs": [
    {
     "name": "stdin",
     "output_type": "stream",
     "text": [
      "Enter a number a to calculate its factorial : 4\n"
     ]
    },
    {
     "name": "stdout",
     "output_type": "stream",
     "text": [
      "The factorial of number is : 24\n"
     ]
    }
   ],
   "source": [
    "# Factorial function:\n",
    "def fact(n):\n",
    "    if n==0:\n",
    "        return(1)\n",
    "    else :\n",
    "        return(n * fact(n-1))\n",
    "n = int(input(\"Enter a number a to calculate its factorial :\"))\n",
    "print(f\"The factorial of number is : {fact(n)}\")"
   ]
  },
  {
   "cell_type": "code",
   "execution_count": 7,
   "id": "1c351131-55bf-41dc-a0f4-3005c204b269",
   "metadata": {},
   "outputs": [
    {
     "name": "stdin",
     "output_type": "stream",
     "text": [
      "Enter a number to chech if it is perfect square: 81\n"
     ]
    },
    {
     "name": "stdout",
     "output_type": "stream",
     "text": [
      "n is perfect square\n"
     ]
    }
   ],
   "source": [
    "# Perfect square\n",
    "def perfect_square(n):\n",
    "    if n < 0:\n",
    "        return(\"False\")\n",
    "    sqrt_n = int(n**0.5)\n",
    "    return sqrt_n * sqrt_n == n\n",
    "n=int(input(\"Enter a number to chech if it is perfect square:\"))\n",
    "if perfect_square(n):\n",
    "    print(f\"n is perfect square\")\n",
    "else :\n",
    "    print(f\"n is not perfect square\")"
   ]
  },
  {
   "cell_type": "code",
   "execution_count": 15,
   "id": "6f4c405d-0883-48be-bc5e-943fa1890f3e",
   "metadata": {},
   "outputs": [
    {
     "name": "stdin",
     "output_type": "stream",
     "text": [
      "Enter year to check if it is a leap year: 2025\n"
     ]
    },
    {
     "name": "stdout",
     "output_type": "stream",
     "text": [
      "2025 is not a leap year\n"
     ]
    }
   ],
   "source": [
    "# Leap year\n",
    "def leap_year(year):\n",
    "    if year % 4 == 0:\n",
    "        if year % 100 == 0:\n",
    "            if year % 400 == 0:\n",
    "                return True\n",
    "            else :\n",
    "                return False\n",
    "        else :\n",
    "            return True\n",
    "    else :\n",
    "        return False\n",
    "year = int(input(\"Enter year to check if it is a leap year:\"))\n",
    "if leap_year(year):\n",
    "    print(f\"{year} is a leap year\")\n",
    "else :\n",
    "    print(f\"{year} is not a leap year\")\n"
   ]
  },
  {
   "cell_type": "code",
   "execution_count": 19,
   "id": "a1061dc0-d8be-4249-94f5-6d7117ebd39b",
   "metadata": {},
   "outputs": [
    {
     "name": "stdout",
     "output_type": "stream",
     "text": [
      "GCD 22 and 5 is: 1\n"
     ]
    }
   ],
   "source": [
    "#Gretest common divisior\n",
    "def gcd(a,b) :\n",
    "    while b!=0:\n",
    "        a,b = b,a % b\n",
    "    return a\n",
    "a=22\n",
    "b=5\n",
    "result=gcd(a,b)\n",
    "print(\"GCD\",a,\"and\",b,\"is:\",result)"
   ]
  },
  {
   "cell_type": "code",
   "execution_count": 21,
   "id": "6d336c81-a54f-4a7b-a7db-3e5b1b02e855",
   "metadata": {},
   "outputs": [
    {
     "name": "stdout",
     "output_type": "stream",
     "text": [
      "3\n"
     ]
    }
   ],
   "source": [
    "#count the number of vowel in a string\n",
    "def count_vowels(s):\n",
    "    vowels = 'aeiou'\n",
    "    return sum(1 for char in s if char in vowels)\n",
    "s = \"Hello World\"\n",
    "print(count_vowels(s))"
   ]
  },
  {
   "cell_type": "code",
   "execution_count": 27,
   "id": "d776827a-208e-42c9-8a36-01b0e2a2c562",
   "metadata": {},
   "outputs": [
    {
     "name": "stdout",
     "output_type": "stream",
     "text": [
      "70\n"
     ]
    }
   ],
   "source": [
    "# Least Common multiple (LCM) of two numbers\n",
    "def lcm(a , b):\n",
    "    return abs(a * b) // gcd(a, b)\n",
    "a = 10\n",
    "b = 14\n",
    "print(lcm(a, b))"
   ]
  },
  {
   "cell_type": "code",
   "execution_count": 37,
   "id": "707d4773-a44f-44f5-ac3a-0205bf821ccd",
   "metadata": {},
   "outputs": [
    {
     "name": "stdin",
     "output_type": "stream",
     "text": [
      "Enter a number: 100\n"
     ]
    },
    {
     "name": "stdout",
     "output_type": "stream",
     "text": [
      "The number is positive\n"
     ]
    }
   ],
   "source": [
    "# Positive number\n",
    "def positive(num):\n",
    "    return num > 0\n",
    "#Example\n",
    "num = float(input(\"Enter a number:\"))\n",
    "if positive(num):\n",
    "    print(\"The number is positive\")\n",
    "else:\n",
    "    print(\"The number is not positive\")"
   ]
  },
  {
   "cell_type": "code",
   "execution_count": 39,
   "id": "bc26b768-385f-40be-9523-3569cc9d5f6c",
   "metadata": {},
   "outputs": [
    {
     "name": "stdin",
     "output_type": "stream",
     "text": [
      "Enter a number: -25\n"
     ]
    },
    {
     "name": "stdout",
     "output_type": "stream",
     "text": [
      "The number is negative\n"
     ]
    }
   ],
   "source": [
    "# Negative number\n",
    "def negative(num):\n",
    "    return num < 0\n",
    "num = float(input(\"Enter a number:\"))\n",
    "if negative(num) :\n",
    "    print(\"The number is negative\")\n",
    "else:\n",
    "    print(\"The number is negative\")\n"
   ]
  },
  {
   "cell_type": "code",
   "execution_count": null,
   "id": "f191d3de-ae20-4f40-a5ef-71c5febb518f",
   "metadata": {},
   "outputs": [],
   "source": []
  }
 ],
 "metadata": {
  "kernelspec": {
   "display_name": "Python 3 (ipykernel)",
   "language": "python",
   "name": "python3"
  },
  "language_info": {
   "codemirror_mode": {
    "name": "ipython",
    "version": 3
   },
   "file_extension": ".py",
   "mimetype": "text/x-python",
   "name": "python",
   "nbconvert_exporter": "python",
   "pygments_lexer": "ipython3",
   "version": "3.11.7"
  }
 },
 "nbformat": 4,
 "nbformat_minor": 5
}
