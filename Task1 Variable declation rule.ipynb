{
 "cells": [
  {
   "cell_type": "code",
   "execution_count": 1,
   "id": "773c2314-7a43-4419-81a4-be2f66404d2c",
   "metadata": {},
   "outputs": [],
   "source": [
    "#A variable can have a short name (like x and y) \n",
    "#or a more descriptive name (age, carname, total_volume). "
   ]
  },
  {
   "cell_type": "markdown",
   "id": "dee67d90-a0e9-427f-a52d-af4c597ce824",
   "metadata": {},
   "source": [
    "# variables naming rules\n",
    "A variable name must start with a letter or the underscore character\n",
    "A variable name cannot start with a number\n",
    "A variable name can only contain alpha-numeric characters and underscores (A-z, 0-9, and _ )\n",
    "Variable names are case-sensitive (age, Age and AGE are three different variables)\n",
    "A variable name cannot be any of the Python keywords."
   ]
  },
  {
   "cell_type": "code",
   "execution_count": 9,
   "id": "223a3e1e-62e0-4522-8d86-ce0c7bff796e",
   "metadata": {},
   "outputs": [
    {
     "name": "stdout",
     "output_type": "stream",
     "text": [
      "Name_of_Employee\n",
      "Rahul\n"
     ]
    }
   ],
   "source": [
    "#Example\n",
    "x=\"Name_of_Employee\"\n",
    "y=\"Rahul\"\n",
    "print(x)\n",
    "print(y)"
   ]
  },
  {
   "cell_type": "code",
   "execution_count": 11,
   "id": "0be81c94-90f3-4084-9b34-31d32413b0a0",
   "metadata": {},
   "outputs": [],
   "source": [
    "# camel case\n",
    "#Each word, except the first, starts with a capital letter:\n",
    "myName=\"Rahul\""
   ]
  },
  {
   "cell_type": "code",
   "execution_count": 13,
   "id": "41308688-dc1b-4ee4-bacb-24fb29baa2da",
   "metadata": {},
   "outputs": [],
   "source": [
    "#Pascal Case\n",
    "#Each word starts with a capital letter:\n",
    "MyName =\"Rahul\""
   ]
  },
  {
   "cell_type": "code",
   "execution_count": 17,
   "id": "2dae3573-6b38-4e99-bfbb-4bfc8a112b3c",
   "metadata": {},
   "outputs": [],
   "source": [
    "#Snake Case \n",
    "#Each word is separated by an underscore character:\n",
    "my_name = \"Rahul\""
   ]
  },
  {
   "cell_type": "code",
   "execution_count": 19,
   "id": "fe2df88f-26a8-4d31-95f0-aac839c33bb6",
   "metadata": {},
   "outputs": [
    {
     "name": "stdout",
     "output_type": "stream",
     "text": [
      "orange\n",
      "Red\n",
      "yellow\n"
     ]
    }
   ],
   "source": [
    "# Many values to Multiple Variables\n",
    "#Examples\n",
    "x ,y ,z = \"orange\",\"Red\",\"yellow\"\n",
    "print(x)\n",
    "print(y)\n",
    "print(z)"
   ]
  },
  {
   "cell_type": "code",
   "execution_count": null,
   "id": "7302d0f1-6991-4e4c-918a-ec7f5c9d5e12",
   "metadata": {},
   "outputs": [],
   "source": []
  }
 ],
 "metadata": {
  "kernelspec": {
   "display_name": "Python 3 (ipykernel)",
   "language": "python",
   "name": "python3"
  },
  "language_info": {
   "codemirror_mode": {
    "name": "ipython",
    "version": 3
   },
   "file_extension": ".py",
   "mimetype": "text/x-python",
   "name": "python",
   "nbconvert_exporter": "python",
   "pygments_lexer": "ipython3",
   "version": "3.11.7"
  }
 },
 "nbformat": 4,
 "nbformat_minor": 5
}
