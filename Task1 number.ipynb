{
 "cells": [
  {
   "cell_type": "markdown",
   "id": "28966a3b-dc78-4191-b1af-54f9909f76d1",
   "metadata": {},
   "source": [
    "#There are three numeric types in Python:\r",
    "#\r\n",
    "in#t\r\n",
    "flo#at\r\n",
    "com\n",
    "x = 1    # int\r\n",
    "y = 2.8  # float\r\n",
    "z = 1j   # comple#x\r\n",
    "To verify the type of any object in Python, use the type() function#:\r\n",
    "\r\n",
    "Example\r\n",
    "print(type(x))\r\n",
    "print(type(y))\r\n",
    "print(type(z))plexlexplex"
   ]
  },
  {
   "cell_type": "code",
   "execution_count": 8,
   "id": "700cbd97-ff0f-495e-976a-3dafed96b79c",
   "metadata": {},
   "outputs": [
    {
     "name": "stdout",
     "output_type": "stream",
     "text": [
      "<class 'int'>\n",
      "<class 'int'>\n",
      "<class 'int'>\n"
     ]
    }
   ],
   "source": [
    "#Int\n",
    "#Int, or integer, is a whole number, positive or negative, without decimals, of unlimited length\n",
    "\n",
    "#Example\n",
    "\n",
    "x = 1\n",
    "y = 35656222554887711\n",
    "z = -3255522\n",
    "print(type(x))\n",
    "print(type(y))\n",
    "print(type(z))\n"
   ]
  },
  {
   "cell_type": "code",
   "execution_count": 10,
   "id": "4d79dc6b-e11c-436a-a668-8fb992789af9",
   "metadata": {},
   "outputs": [
    {
     "name": "stdout",
     "output_type": "stream",
     "text": [
      "<class 'float'>\n",
      "<class 'float'>\n",
      "<class 'float'>\n"
     ]
    }
   ],
   "source": [
    "#Float\n",
    "#Float, or \"floating point number\" is a number, positive or negative, containing one or more decimals\n",
    "#Example\n",
    "\n",
    "x = 2.10\n",
    "y = 1.0\n",
    "z = -25.59\n",
    "\n",
    "print(type(x))\n",
    "print(type(y))\n",
    "print(type(z))"
   ]
  },
  {
   "cell_type": "code",
   "execution_count": 14,
   "id": "b10a07c1-2cbd-4603-a5a2-f3e08a80b783",
   "metadata": {},
   "outputs": [
    {
     "name": "stdout",
     "output_type": "stream",
     "text": [
      "<class 'float'>\n",
      "<class 'float'>\n",
      "<class 'float'>\n"
     ]
    }
   ],
   "source": [
    "#Float can also be scientific numbers with an \"e\" to indicate the power of 10.\n",
    "#Example\n",
    "x = 25e3\n",
    "y = 15E4\n",
    "z = -97.7e100\n",
    "\n",
    "print(type(x))\n",
    "print(type(y))\n",
    "print(type(z))"
   ]
  },
  {
   "cell_type": "code",
   "execution_count": 18,
   "id": "ecf409e7-3c0c-4ed5-a166-2fbc8c24d720",
   "metadata": {},
   "outputs": [
    {
     "name": "stdout",
     "output_type": "stream",
     "text": [
      "<class 'complex'>\n",
      "<class 'complex'>\n",
      "<class 'complex'>\n"
     ]
    }
   ],
   "source": [
    "#Complex\n",
    "#Complex numbers are written with a \"j\" as the imaginary part:\n",
    "#Example\n",
    "x = 2+5j\n",
    "y = 6j\n",
    "z = -6j\n",
    "print(type(x))\n",
    "print(type(y))\n",
    "print(type(z))"
   ]
  },
  {
   "cell_type": "code",
   "execution_count": 20,
   "id": "5be7bffb-4ec9-4b33-acfa-6f27b100e1f2",
   "metadata": {},
   "outputs": [
    {
     "name": "stdout",
     "output_type": "stream",
     "text": [
      "1.0\n",
      "2\n",
      "(1+0j)\n",
      "<class 'float'>\n",
      "<class 'int'>\n",
      "<class 'complex'>\n"
     ]
    }
   ],
   "source": [
    "#Type Conversion\n",
    "#convert from one type to another with the int(), float(), and complex() methods:\n",
    "#Example\n",
    "x = 1    # int\n",
    "y = 2.8  # float\n",
    "z = 1j   # complex\n",
    "\n",
    "#convert from int to float:\n",
    "a = float(x)\n",
    "\n",
    "#convert from float to int:\n",
    "b = int(y)\n",
    "\n",
    "#convert from int to complex:\n",
    "c = complex(x)\n",
    "\n",
    "print(a)\n",
    "print(b)\n",
    "print(c)\n",
    "\n",
    "print(type(a))\n",
    "print(type(b))\n",
    "print(type(c))"
   ]
  },
  {
   "cell_type": "code",
   "execution_count": 26,
   "id": "bcc3c1b0-da13-4d9f-a88f-862d3626cd78",
   "metadata": {},
   "outputs": [
    {
     "name": "stdout",
     "output_type": "stream",
     "text": [
      "7\n"
     ]
    }
   ],
   "source": [
    "#Random Number\n",
    "#Python does not have a random() function to make a random number, but Python has a built-in module called random that can be used to make random numbers:\n",
    "\n",
    "#Example\n",
    "#Import the random module, and display a random number between 1 and 7\n",
    "\n",
    "import random\n",
    "\n",
    "print(random.randrange(1, 8))"
   ]
  },
  {
   "cell_type": "code",
   "execution_count": null,
   "id": "b7a6ea7e-e5f0-4389-b0bd-a22395d127f0",
   "metadata": {},
   "outputs": [],
   "source": []
  }
 ],
 "metadata": {
  "kernelspec": {
   "display_name": "Python 3 (ipykernel)",
   "language": "python",
   "name": "python3"
  },
  "language_info": {
   "codemirror_mode": {
    "name": "ipython",
    "version": 3
   },
   "file_extension": ".py",
   "mimetype": "text/x-python",
   "name": "python",
   "nbconvert_exporter": "python",
   "pygments_lexer": "ipython3",
   "version": "3.11.7"
  }
 },
 "nbformat": 4,
 "nbformat_minor": 5
}
