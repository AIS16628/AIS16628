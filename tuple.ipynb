{
 "cells": [
  {
   "cell_type": "markdown",
   "id": "bdc2053a-3c01-4681-9fab-eb45b77a721a",
   "metadata": {},
   "source": [
    "#Tuple\n",
    "Tuples are used to store multiple items in a single variable.\n",
    "\n",
    "Tuple is one of 4 built-in data types in Python used to store collections of data, the other 3 are List, Set, and Dictionary, all with different qualities and usage.\n",
    "\n",
    "A tuple is a collection which is ordered and unchangeable.\n",
    "\n",
    "Tuples are written with round brackets."
   ]
  },
  {
   "cell_type": "code",
   "execution_count": 4,
   "id": "8aae9c0c-6fb3-4d7d-941e-f42db4ce7719",
   "metadata": {},
   "outputs": [
    {
     "name": "stdout",
     "output_type": "stream",
     "text": [
      "('apple', 'banana', 'orange')\n"
     ]
    }
   ],
   "source": [
    "tuple = (\"apple\", \"banana\", \"orange\")\n",
    "print(tuple)"
   ]
  },
  {
   "cell_type": "markdown",
   "id": "1dc6c73d-c57f-4c33-a8d3-798a26c81972",
   "metadata": {},
   "source": [
    "#Tuple Items\n",
    "Tuple items are ordered, unchangeable, and allow duplicate values.\n",
    "\n",
    "Tuple items are indexed, the first item has index [0], the second item has index [1] etc.\n",
    "\n",
    "#Ordered\n",
    "When we say that tuples are ordered, it means that the items have a defined order, and that order will not change.\n",
    "\n",
    "#Unchangeable\n",
    "Tuples are unchangeable, meaning that we cannot change, add or remove items after the tuple has been created."
   ]
  },
  {
   "cell_type": "code",
   "execution_count": 9,
   "id": "9ed72e0d-57af-4b59-aec7-e8547a477348",
   "metadata": {},
   "outputs": [
    {
     "name": "stdout",
     "output_type": "stream",
     "text": [
      "('apple', 'banana', 'orange', 'apple', 'orange')\n"
     ]
    }
   ],
   "source": [
    "#Allow Duplicates\n",
    "#Since tuples are indexed, they can have items with the same value:\n",
    "\n",
    "#Example\n",
    "#Tuples allow duplicate values:\n",
    "\n",
    "tuple = (\"apple\", \"banana\", \"orange\", \"apple\", \"orange\")\n",
    "print(tuple)"
   ]
  },
  {
   "cell_type": "code",
   "execution_count": 11,
   "id": "b013df9a-2516-4642-b242-bfbd43ffb75e",
   "metadata": {},
   "outputs": [
    {
     "name": "stdout",
     "output_type": "stream",
     "text": [
      "3\n"
     ]
    }
   ],
   "source": [
    "#Tuple Length\n",
    "#To determine how many items a tuple has, use the len() function:\n",
    "#Example\n",
    "tuple = (\"apple\", \"banana\", \"orange\")\n",
    "print(len(tuple))"
   ]
  },
  {
   "cell_type": "code",
   "execution_count": 13,
   "id": "e18ea464-afb5-4749-bee7-3b5e0001c672",
   "metadata": {},
   "outputs": [
    {
     "name": "stdout",
     "output_type": "stream",
     "text": [
      "<class 'tuple'>\n",
      "<class 'str'>\n"
     ]
    }
   ],
   "source": [
    "#Create Tuple With One Item\n",
    "#To create a tuple with only one item, you have to add a comma after the item, otherwise Python will not recognize it as a tuple.\n",
    "\n",
    "#Example\n",
    "#One item tuple, remember the comma:\n",
    "\n",
    "tuple = (\"apple\",)\n",
    "print(type(tuple))\n",
    "\n",
    "#NOT a tuple\n",
    "tuple = (\"apple\")\n",
    "print(type(tuple))"
   ]
  },
  {
   "cell_type": "code",
   "execution_count": 19,
   "id": "3b676a9a-db73-4d82-9825-ff4f6ba21d53",
   "metadata": {},
   "outputs": [
    {
     "name": "stdout",
     "output_type": "stream",
     "text": [
      "('apple', 'banana', 'orange')\n",
      "(1, 5, 7, 9, 3)\n",
      "(True, False, False)\n"
     ]
    }
   ],
   "source": [
    "#Tuple Items - Data Types\n",
    "#Tuple items can be of any data type:\n",
    "\n",
    "#Example\n",
    "#String, int and boolean data types:\n",
    "\n",
    "tuple1 = (\"apple\", \"banana\", \"orange\")\n",
    "tuple2 = (1, 5, 7, 9, 3)\n",
    "tuple3 = (True, False, False)\n",
    "print(tuple1)\n",
    "print(tuple2)\n",
    "print(tuple3)"
   ]
  },
  {
   "cell_type": "code",
   "execution_count": 21,
   "id": "5d916bcf-f93f-4ef2-a13a-9e4aba74963b",
   "metadata": {},
   "outputs": [
    {
     "name": "stdout",
     "output_type": "stream",
     "text": [
      "('abc', 44, True, 50, 'male')\n"
     ]
    }
   ],
   "source": [
    "#A tuple can contain different data types:\n",
    "#Example\n",
    "#A tuple with strings, integers and boolean values:\n",
    "\n",
    "tuple = (\"abc\", 44, True, 50, \"male\")\n",
    "print(tuple)"
   ]
  },
  {
   "cell_type": "code",
   "execution_count": 25,
   "id": "7a49bb8b-15e2-43c2-9606-30e768da8e73",
   "metadata": {},
   "outputs": [
    {
     "name": "stdout",
     "output_type": "stream",
     "text": [
      "<class 'tuple'>\n"
     ]
    }
   ],
   "source": [
    "#type()\n",
    "#From Python's perspective, tuples are defined as objects with the data type 'tuple':\n",
    "#Example\n",
    "mytuple = (\"apple\", \"banana\", \"orange\")\n",
    "print(type(mytuple))"
   ]
  },
  {
   "cell_type": "code",
   "execution_count": 1,
   "id": "184887db-7703-4f6c-b888-586e5010cc99",
   "metadata": {},
   "outputs": [
    {
     "name": "stdout",
     "output_type": "stream",
     "text": [
      "('apple', 'banana', 'orange')\n"
     ]
    }
   ],
   "source": [
    "#The tuple() Constructor\n",
    "#It is also possible to use the tuple() constructor to make a tuple.\n",
    "\n",
    "#Example\n",
    "#Using the tuple() method to make a tuple:\n",
    "\n",
    "thistuple = tuple((\"apple\", \"banana\", \"orange\")) \n",
    "# note the double round-brackets\n",
    "print(thistuple)"
   ]
  },
  {
   "cell_type": "code",
   "execution_count": null,
   "id": "fbed102d-15c3-443e-8831-11edfe7d7e51",
   "metadata": {},
   "outputs": [],
   "source": []
  }
 ],
 "metadata": {
  "kernelspec": {
   "display_name": "Python 3 (ipykernel)",
   "language": "python",
   "name": "python3"
  },
  "language_info": {
   "codemirror_mode": {
    "name": "ipython",
    "version": 3
   },
   "file_extension": ".py",
   "mimetype": "text/x-python",
   "name": "python",
   "nbconvert_exporter": "python",
   "pygments_lexer": "ipython3",
   "version": "3.11.7"
  }
 },
 "nbformat": 4,
 "nbformat_minor": 5
}
