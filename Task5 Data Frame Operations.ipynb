{
 "cells": [
  {
   "cell_type": "markdown",
   "id": "12a34c93-1146-48a0-aaf9-2064b70fe437",
   "metadata": {},
   "source": [
    "#Data frame operations\n",
    "#Dataframe operations in pandas cover a wide range of functionalities for data manipulation and analysis."
   ]
  },
  {
   "cell_type": "code",
   "execution_count": 13,
   "id": "1947a8a7-60df-4e7b-bed4-bfc2361d296d",
   "metadata": {},
   "outputs": [
    {
     "name": "stdout",
     "output_type": "stream",
     "text": [
      "C\n",
      "Apple     2\n",
      "Banana    2\n",
      "orange    1\n",
      "Name: count, dtype: int64\n"
     ]
    }
   ],
   "source": [
    "#value_counts(): Counting the occurrences of unique values in a column\n",
    "import pandas as pd\n",
    "data={'A':[1,2,3,4,5],'B':[5,4,3,2,1],'C':['Apple','Banana','Apple','orange','Banana']}\n",
    "df=pd.DataFrame(data)\n",
    "value_counts=df['C'].value_counts()\n",
    "print(value_counts)"
   ]
  },
  {
   "cell_type": "code",
   "execution_count": 9,
   "id": "43ab902e-9ea8-43d1-b2f3-4f1814117c3e",
   "metadata": {},
   "outputs": [
    {
     "name": "stdout",
     "output_type": "stream",
     "text": [
      "0    1\n",
      "1    2\n",
      "2    3\n",
      "3    4\n",
      "4    5\n",
      "Name: Number, dtype: int64\n"
     ]
    }
   ],
   "source": [
    "#apply(): Applying a function along the axis of the DataFrame\n",
    "import pandas as pd\n",
    "data={'Number':[1,2,3,4,5]}\n",
    "df=pd.DataFrame(data)\n",
    "def string_to_int(x):\n",
    "    return int(x)\n",
    "df['Number']=df['Number'].apply(string_to_int)\n",
    "print(df['Number'])"
   ]
  },
  {
   "cell_type": "code",
   "execution_count": 11,
   "id": "d76273f9-4ad3-44ef-9358-5c6daa6acedf",
   "metadata": {},
   "outputs": [
    {
     "name": "stdout",
     "output_type": "stream",
     "text": [
      "Unique values in 'Name' column:\n",
      "['Akshay' 'Aakash' 'Aniruddha' 'Pratik']\n"
     ]
    }
   ],
   "source": [
    "#unique(): Getting unique values in a column\n",
    "import pandas as pd\n",
    "data = {'Name': ['Akshay', 'Aakash', 'Aniruddha', 'Akshay', 'Pratik', 'Akshay']}\n",
    "df = pd.DataFrame(data)\n",
    "unique_values = df['Name'].unique()\n",
    "print(\"Unique values in 'Name' column:\")\n",
    "print(unique_values)\n"
   ]
  },
  {
   "cell_type": "code",
   "execution_count": 15,
   "id": "79219728-7be8-4ac0-a192-1ca3f44b5bcf",
   "metadata": {},
   "outputs": [
    {
     "name": "stdout",
     "output_type": "stream",
     "text": [
      "Unique values in 'Name' column:\n",
      "4\n"
     ]
    }
   ],
   "source": [
    "#nunique(): Counting the number of unique values in a column\n",
    "import pandas as pd\n",
    "data = {'Name': ['Akshay', 'Aakash', 'Aniruddha', 'Akshay', 'Pratik', 'Akshay']}\n",
    "df = pd.DataFrame(data)\n",
    "unique_values = df['Name'].nunique()\n",
    "print(\"Unique values in 'Name' column:\")\n",
    "print(unique_values)\n"
   ]
  },
  {
   "cell_type": "code",
   "execution_count": 17,
   "id": "9a1511b8-1b71-40bb-a681-0fc66bcafc60",
   "metadata": {},
   "outputs": [
    {
     "name": "stdout",
     "output_type": "stream",
     "text": [
      "Descriptive statistics of the DataFrame:\n",
      "              A          B\n",
      "count  5.000000   5.000000\n",
      "mean   3.000000  30.000000\n",
      "std    1.581139  15.811388\n",
      "min    1.000000  10.000000\n",
      "25%    2.000000  20.000000\n",
      "50%    3.000000  30.000000\n",
      "75%    4.000000  40.000000\n",
      "max    5.000000  50.000000\n"
     ]
    }
   ],
   "source": [
    "#describe(): Generating descriptive statistics of the DataFrame\n",
    "import pandas as pd\n",
    "data = {'A': [1, 2, 3, 4, 5],\n",
    "        'B': [10, 20, 30, 40, 50]}\n",
    "df = pd.DataFrame(data)\n",
    "description = df.describe()\n",
    "print(\"Descriptive statistics of the DataFrame:\")\n",
    "print(description)"
   ]
  },
  {
   "cell_type": "code",
   "execution_count": 25,
   "id": "50814411-ed91-4411-9928-5dd0182dda1d",
   "metadata": {},
   "outputs": [
    {
     "name": "stdout",
     "output_type": "stream",
     "text": [
      "     student  maths  phy  chem\n",
      "4     Pratik     70   95    60\n",
      "3     Akshay     75   80    65\n",
      "0       Ajay     80   90    80\n",
      "1      Akash     90   75    75\n",
      "2  Aniruddha     95   85    70\n"
     ]
    }
   ],
   "source": [
    "#Sorting():sort dataframe based on one or more column.\n",
    "import pandas as pd\n",
    "data={'student':['Ajay','Akash','Aniruddha','Akshay','Pratik'],'maths':[80,90,95,75,70],'phy':[90,75,85,80,95],'chem':[80,75,70,65,60]}\n",
    "df=pd.DataFrame(data)\n",
    "sorted_df=df.sort_values(by='maths',ascending=True)\n",
    "print(sorted_df)"
   ]
  },
  {
   "cell_type": "code",
   "execution_count": 31,
   "id": "efe460c4-db9e-4ef6-926b-618d55f4a54b",
   "metadata": {},
   "outputs": [
    {
     "name": "stdout",
     "output_type": "stream",
     "text": [
      "0    3.0\n",
      "1    2.0\n",
      "2    1.0\n",
      "3    4.0\n",
      "4    5.0\n",
      "Name: score, dtype: float64\n"
     ]
    }
   ],
   "source": [
    "#Rank(): indicating rank\n",
    "import pandas as pd\n",
    "data={'student':['Ajay','Akash','Aniruddha','Akshay','Pratik'],'score':[80,90,95,75,70]}\n",
    "df=pd.DataFrame(data)\n",
    "rank_df=df['score'].rank(ascending=False)\n",
    "print(rank_df)"
   ]
  },
  {
   "cell_type": "code",
   "execution_count": null,
   "id": "4c10f0d1-2078-43f6-bc34-f0ae13062bbb",
   "metadata": {},
   "outputs": [],
   "source": []
  }
 ],
 "metadata": {
  "kernelspec": {
   "display_name": "Python 3 (ipykernel)",
   "language": "python",
   "name": "python3"
  },
  "language_info": {
   "codemirror_mode": {
    "name": "ipython",
    "version": 3
   },
   "file_extension": ".py",
   "mimetype": "text/x-python",
   "name": "python",
   "nbconvert_exporter": "python",
   "pygments_lexer": "ipython3",
   "version": "3.11.7"
  }
 },
 "nbformat": 4,
 "nbformat_minor": 5
}
