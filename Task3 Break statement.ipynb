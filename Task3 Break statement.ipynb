{
 "cells": [
  {
   "cell_type": "markdown",
   "id": "ca758cd8-ef67-43a1-b102-98e7a38fddd9",
   "metadata": {},
   "source": [
    "#Definition and Usage\n",
    "#The break statement used to exit or \"break out\" of a loop prematurely.\n",
    "#The break keyword is used to break out a for loop, or a while loop."
   ]
  },
  {
   "cell_type": "code",
   "execution_count": 2,
   "id": "e3a73f12-c561-4605-905c-baf611b6afe6",
   "metadata": {},
   "outputs": [
    {
     "name": "stdout",
     "output_type": "stream",
     "text": [
      "0\n",
      "1\n",
      "2\n",
      "3\n"
     ]
    }
   ],
   "source": [
    "#Example1\n",
    "#End the loop if i is larger than 3:\n",
    "\n",
    "for i in range(9):\n",
    "  if i > 3:\n",
    "    break\n",
    "  print(i)"
   ]
  },
  {
   "cell_type": "code",
   "execution_count": 4,
   "id": "6d5da8a7-89cc-4a01-b3d9-036757ffc5ac",
   "metadata": {},
   "outputs": [
    {
     "name": "stdout",
     "output_type": "stream",
     "text": [
      "1\n",
      "2\n",
      "3\n"
     ]
    }
   ],
   "source": [
    "#Example\n",
    "#Break out of a while loop:\n",
    "\n",
    "i = 1\n",
    "while i < 9:\n",
    "  print(i)\n",
    "  if i == 3:\n",
    "    break\n",
    "  i += 1\n"
   ]
  },
  {
   "cell_type": "code",
   "execution_count": 10,
   "id": "155b3a2e-b2a3-416d-b722-973917a21702",
   "metadata": {},
   "outputs": [
    {
     "name": "stdout",
     "output_type": "stream",
     "text": [
      "apple\n",
      "orange\n"
     ]
    }
   ],
   "source": [
    "#break Statement\n",
    "#With the break statement we can stop the loop before it has looped through all the items:\n",
    "#Example 3\n",
    "#Exit the loop when x is \"orange\":\n",
    "\n",
    "fruits = [\"apple\", \"orange\", \"cherry\"]\n",
    "for x in fruits:\n",
    "  print(x)\n",
    "  if x == \"orange\":\n",
    "    break"
   ]
  },
  {
   "cell_type": "code",
   "execution_count": null,
   "id": "f345b69e-3947-4bcd-aabf-1e19d0ed43ab",
   "metadata": {},
   "outputs": [],
   "source": []
  }
 ],
 "metadata": {
  "kernelspec": {
   "display_name": "Python 3 (ipykernel)",
   "language": "python",
   "name": "python3"
  },
  "language_info": {
   "codemirror_mode": {
    "name": "ipython",
    "version": 3
   },
   "file_extension": ".py",
   "mimetype": "text/x-python",
   "name": "python",
   "nbconvert_exporter": "python",
   "pygments_lexer": "ipython3",
   "version": "3.11.7"
  }
 },
 "nbformat": 4,
 "nbformat_minor": 5
}
