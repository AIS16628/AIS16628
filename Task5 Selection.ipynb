{
 "cells": [
  {
   "cell_type": "code",
   "execution_count": 11,
   "id": "a1328111-1701-44cd-b3bb-00bc9d33e827",
   "metadata": {},
   "outputs": [
    {
     "name": "stdout",
     "output_type": "stream",
     "text": [
      "0    A\n",
      "1    B\n",
      "2    C\n",
      "3    D\n",
      "4    E\n",
      "Name: Name, dtype: object\n",
      "  Name  Age\n",
      "0    A   25\n",
      "1    B   30\n",
      "2    C   35\n",
      "3    D   40\n",
      "4    E   45\n",
      "  Name  Age Gender\n",
      "3    D   40      M\n",
      "4    E   45      F\n",
      "  Name  Age\n",
      "1    B   30\n",
      "2    C   35\n",
      "  Name  Age\n",
      "1    B   30\n",
      "2    C   35\n",
      "3    D   40\n"
     ]
    }
   ],
   "source": [
    "# DataFrame row,column selection:\n",
    "#Example\n",
    "import pandas as pd\n",
    "data={'Name':['A', 'B', 'C', 'D', 'E'],'Age':[25,30,35,40,45],'Gender':['F', 'M', 'M', 'M','F']}\n",
    "df=pd.DataFrame(data)\n",
    "\n",
    "# selecting a single column\n",
    "name_column = df['Name']\n",
    "print(name_column)\n",
    "\n",
    "#selecting multiple column\n",
    "subset = df[['Name','Age']]\n",
    "print(subset)\n",
    "\n",
    "# selecting row based on condition\n",
    "subset_age_35plus = df[df['Age']>35]\n",
    "print(subset_age_35plus)\n",
    "\n",
    "# selecting row and column using iloc (index based selection)\n",
    "subset_iloc = df.iloc[1:3,0:2]  # Rows 1 and 2, column 0 and 1\n",
    "print(subset_iloc)\n",
    "\n",
    "# selecting row and column using loc (label based selection)\n",
    "subset_loc = df.loc[1:3, ['Name','Age']]  # Rows 1 to 3, column 'Name' and 'Age'\n",
    "print(subset_loc)"
   ]
  },
  {
   "cell_type": "code",
   "execution_count": 15,
   "id": "50473083-e460-40fa-bbf1-d335f952db66",
   "metadata": {},
   "outputs": [
    {
     "name": "stdout",
     "output_type": "stream",
     "text": [
      "  Name  Age Gender City\n",
      "3    D   40      M    S\n",
      "4    E   45      F    U\n",
      "  Name  Age Gender City\n",
      "1    B   30      M    Q\n",
      "2    C   35      M    R\n",
      "3    D   40      M    S\n"
     ]
    }
   ],
   "source": [
    "# Conditional selection :\n",
    "#Example\n",
    "import pandas as pd\n",
    "data={'Name':['A', 'B', 'C', 'D', 'E'],'Age':[25,30,35,40,45],'Gender':['F', 'M', 'M', 'M','F'],'City':['P', 'Q', 'R', 'S', 'U']}\n",
    "df=pd.DataFrame(data)\n",
    "\n",
    "# Filter row where age is greater than 35\n",
    "a = df[df['Age'] >35]\n",
    "print(a)\n",
    "\n",
    "# Filter row where gender is male\n",
    "b = df[df['Gender']== 'M']\n",
    "print(b)\n"
   ]
  },
  {
   "cell_type": "code",
   "execution_count": 17,
   "id": "79ef90cd-6823-4096-b2da-0789171729d0",
   "metadata": {},
   "outputs": [
    {
     "name": "stdout",
     "output_type": "stream",
     "text": [
      "  Name  Age Gender City\n",
      "2    C   35      M    R\n",
      "3    D   40      M    S\n",
      "4    E   45      F    U\n"
     ]
    }
   ],
   "source": [
    "#Query(): select row using query\n",
    "import pandas as pd\n",
    "data={'Name':['A', 'B', 'C', 'D', 'E'],'Age':[25,30,35,40,45],'Gender':['F', 'M', 'M', 'M','F'],'City':['P', 'Q', 'R', 'S', 'U']}\n",
    "df=pd.DataFrame(data)\n",
    "subset = df.query('Age>30')\n",
    "print(subset)"
   ]
  },
  {
   "cell_type": "code",
   "execution_count": 23,
   "id": "3d65cb0f-89cd-4307-8abc-7dc13b9f31b4",
   "metadata": {},
   "outputs": [
    {
     "name": "stdout",
     "output_type": "stream",
     "text": [
      "DataFrame after adding column 'C':\n",
      "   A   B   C\n",
      "0  1   6  11\n",
      "1  2   7  12\n",
      "2  3   8  13\n",
      "3  4   9  14\n",
      "4  5  10  15\n",
      "\n",
      "DataFrame after deleting column 'B':\n",
      "   A   C\n",
      "0  1  11\n",
      "1  2  12\n",
      "2  3  13\n",
      "3  4  14\n",
      "4  5  15\n",
      "\n",
      "DataFrame after updating column 'A' by multiplying by 2:\n",
      "    A   C\n",
      "0   2  11\n",
      "1   4  12\n",
      "2   6  13\n",
      "3   8  14\n",
      "4  10  15\n"
     ]
    }
   ],
   "source": [
    "#Adding, Deleting, and Updating Columns\n",
    "import pandas as pd\n",
    "data = {'A': [1, 2, 3, 4, 5],\n",
    "        'B': [6, 7, 8, 9, 10]}\n",
    "df = pd.DataFrame(data)\n",
    "\n",
    "# Adding a new column\n",
    "df['C'] = [11, 12, 13, 14, 15]\n",
    "print(\"DataFrame after adding column 'C':\")\n",
    "print(df)\n",
    "\n",
    "# Deleting a column\n",
    "del df['B']\n",
    "print(\"\\nDataFrame after deleting column 'B':\")\n",
    "print(df)\n",
    "\n",
    "# Updating a column\n",
    "df['A'] = df['A'] * 2\n",
    "print(\"\\nDataFrame after updating column 'A' by multiplying by 2:\")\n",
    "print(df)"
   ]
  },
  {
   "cell_type": "code",
   "execution_count": 25,
   "id": "a5343f57-e1f3-48e0-b149-4230eccc5359",
   "metadata": {},
   "outputs": [
    {
     "name": "stdout",
     "output_type": "stream",
     "text": [
      "DataFrame with 'Name' as index:\n",
      "        Age\n",
      "Name       \n",
      "Ajay     25\n",
      "Dipak    30\n",
      "Pratik   35\n"
     ]
    }
   ],
   "source": [
    "#Setting Index: to set a column as the index of the dataframe,use the set_index() function.\n",
    "import pandas as pd\n",
    "data = {'Name': ['Ajay', 'Dipak', 'Pratik'],\n",
    "        'Age': [25, 30, 35]}\n",
    "df = pd.DataFrame(data)\n",
    "df.set_index('Name', inplace=True)\n",
    "print(\"DataFrame with 'Name' as index:\")\n",
    "print(df)"
   ]
  },
  {
   "cell_type": "code",
   "execution_count": 27,
   "id": "43d5bf71-9728-4e94-aaf0-5f2ce601cdfa",
   "metadata": {},
   "outputs": [
    {
     "name": "stdout",
     "output_type": "stream",
     "text": [
      "   index  A  B\n",
      "0      0  1  a\n",
      "1      1  2  b\n",
      "2      2  3  c\n",
      "3      3  4  d\n"
     ]
    }
   ],
   "source": [
    "# Removing Index : To remove the index and reset it to the default integer index used reset_index() function\n",
    "#Example\n",
    "import pandas as pd\n",
    "data = {'A' : [1, 2, 3, 4], 'B' : ['a', 'b', 'c', 'd'] }\n",
    "df=pd.DataFrame(data)\n",
    "df.reset_index(inplace=True)\n",
    "print(df)\n"
   ]
  },
  {
   "cell_type": "code",
   "execution_count": 29,
   "id": "05d7123e-ff6f-47bc-b88a-541919d438b8",
   "metadata": {},
   "outputs": [
    {
     "name": "stdout",
     "output_type": "stream",
     "text": [
      "   A  B\n",
      "0  1  a\n",
      "1  2  b\n",
      "2  3  c\n",
      "3  4  d\n"
     ]
    }
   ],
   "source": [
    "#Example\n",
    "import pandas as pd\n",
    "data = {'A' : [1, 2, 3, 4], 'B' : ['a', 'b', 'c', 'd'] }\n",
    "df=pd.DataFrame(data)\n",
    "df.reset_index(drop=True,inplace=True)\n",
    "print(df)\n"
   ]
  },
  {
   "cell_type": "code",
   "execution_count": 31,
   "id": "05c4dc89-a458-4af8-b82a-e33efe5ce88a",
   "metadata": {},
   "outputs": [
    {
     "name": "stdout",
     "output_type": "stream",
     "text": [
      "    A   B\n",
      "0   8  14\n",
      "1  10  16\n",
      "2  12  18\n",
      "    A   B\n",
      "0   8  14\n",
      "1  10  16\n",
      "2  12  18\n"
     ]
    }
   ],
   "source": [
    "# Operation:\n",
    "# Addition using the add() method:\n",
    "import pandas as pd \n",
    "df1 = pd.DataFrame({'A': [1, 2, 3],'B': [4, 5, 6]})\n",
    "df2 = pd.DataFrame({'A': [7, 8, 9],'B': [10, 11, 12]})\n",
    "a=df1+df2\n",
    "print(a)\n",
    "b=df1.add(df2) # Alternative method\n",
    "print(b)"
   ]
  },
  {
   "cell_type": "code",
   "execution_count": 33,
   "id": "3593d3a2-918d-4e8c-895b-2c3231052e5a",
   "metadata": {},
   "outputs": [
    {
     "name": "stdout",
     "output_type": "stream",
     "text": [
      "   A  B\n",
      "0 -6 -6\n",
      "1 -6 -6\n",
      "2 -6 -6\n",
      "   A  B\n",
      "0 -6 -6\n",
      "1 -6 -6\n",
      "2 -6 -6\n"
     ]
    }
   ],
   "source": [
    "# Subtraction using the sub() method:\n",
    "import pandas as pd \n",
    "df1 = pd.DataFrame({'A': [1, 2, 3],'B': [4, 5, 6]})\n",
    "df2 = pd.DataFrame({'A': [7, 8, 9],'B': [10, 11, 12]})\n",
    "c=df1-df2\n",
    "print(c)\n",
    "d=df1.sub(df2) # Alternative method\n",
    "print(d)"
   ]
  },
  {
   "cell_type": "code",
   "execution_count": 35,
   "id": "f0e716e2-f2a0-46d4-a348-150d1e7e6394",
   "metadata": {},
   "outputs": [
    {
     "name": "stdout",
     "output_type": "stream",
     "text": [
      "    A   B\n",
      "0   7  40\n",
      "1  16  55\n",
      "2  27  72\n",
      "    A   B\n",
      "0   7  40\n",
      "1  16  55\n",
      "2  27  72\n"
     ]
    }
   ],
   "source": [
    "# Multiplication using the mul() method:\n",
    "import pandas as pd \n",
    "df1 = pd.DataFrame({'A': [1, 2, 3],'B': [4, 5, 6]})\n",
    "df2 = pd.DataFrame({'A': [7, 8, 9],'B': [10, 11, 12]})\n",
    "e=df1*df2\n",
    "print(e)\n",
    "f=df1.mul(df2) # Alternative method\n",
    "print(e)"
   ]
  },
  {
   "cell_type": "code",
   "execution_count": 37,
   "id": "b4b737ae-6f80-4f63-b427-5b2aa89ea654",
   "metadata": {},
   "outputs": [
    {
     "name": "stdout",
     "output_type": "stream",
     "text": [
      "          A         B\n",
      "0  0.142857  0.400000\n",
      "1  0.250000  0.454545\n",
      "2  0.333333  0.500000\n",
      "          A         B\n",
      "0  0.142857  0.400000\n",
      "1  0.250000  0.454545\n",
      "2  0.333333  0.500000\n"
     ]
    }
   ],
   "source": [
    "# Division using the div() method\n",
    "import pandas as pd \n",
    "df1 = pd.DataFrame({'A': [1, 2, 3],'B': [4, 5, 6]})\n",
    "df2 = pd.DataFrame({'A': [7, 8, 9],'B': [10, 11, 12]})\n",
    "m=df1/df2\n",
    "print(m)\n",
    "n=df1.div(df2) # Alternative method\n",
    "print(n)"
   ]
  },
  {
   "cell_type": "code",
   "execution_count": null,
   "id": "aa916e93-1dd8-46fc-bd81-dc86e81fa916",
   "metadata": {},
   "outputs": [],
   "source": []
  }
 ],
 "metadata": {
  "kernelspec": {
   "display_name": "Python 3 (ipykernel)",
   "language": "python",
   "name": "python3"
  },
  "language_info": {
   "codemirror_mode": {
    "name": "ipython",
    "version": 3
   },
   "file_extension": ".py",
   "mimetype": "text/x-python",
   "name": "python",
   "nbconvert_exporter": "python",
   "pygments_lexer": "ipython3",
   "version": "3.11.7"
  }
 },
 "nbformat": 4,
 "nbformat_minor": 5
}
