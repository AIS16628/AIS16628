{
 "cells": [
  {
   "cell_type": "markdown",
   "id": "082406c4-7f01-4941-93ae-4f72e6158eaa",
   "metadata": {},
   "source": [
    "#Python Conditions and If statements\n",
    "#Python supports the usual logical conditions from mathematics:\n",
    "\n",
    "Equals: a == b\n",
    "Not Equals: a != b\n",
    "Less than: a < b\n",
    "Less than or equal to: a <= b\n",
    "Greater than: a > b\n",
    "Greater than or equal to: a >= b\n",
    "These conditions can be used in several ways, most commonly in \"if statements\" and loops."
   ]
  },
  {
   "cell_type": "code",
   "execution_count": 2,
   "id": "512f607d-9de9-473d-ac30-1145b1e5aa64",
   "metadata": {},
   "outputs": [
    {
     "name": "stdout",
     "output_type": "stream",
     "text": [
      "b is greater than a\n"
     ]
    }
   ],
   "source": [
    "#An \"if statement\" is written by using the if keyword.\n",
    "\n",
    "#Example\n",
    "#If statement:\n",
    "\n",
    "a = 40\n",
    "b = 150\n",
    "if b > a:\n",
    "  print(\"b is greater than a\")\n"
   ]
  },
  {
   "cell_type": "code",
   "execution_count": 12,
   "id": "c799a512-8ff8-4f2d-95d0-ed557bb6af55",
   "metadata": {},
   "outputs": [
    {
     "name": "stdout",
     "output_type": "stream",
     "text": [
      "b is less than a\n"
     ]
    }
   ],
   "source": [
    "#Example\n",
    "a = 40\n",
    "b = 35\n",
    "if b < a:\n",
    "  print(\"b is less than a\")"
   ]
  },
  {
   "cell_type": "code",
   "execution_count": 14,
   "id": "479792b3-ddd5-430e-a33b-2ddda3f6b67a",
   "metadata": {},
   "outputs": [
    {
     "name": "stdout",
     "output_type": "stream",
     "text": [
      "a is equal to b\n"
     ]
    }
   ],
   "source": [
    "#Example\n",
    "a = 40\n",
    "b = 40\n",
    "if a == a:\n",
    "  print(\"a is equal to b\")"
   ]
  },
  {
   "cell_type": "code",
   "execution_count": 18,
   "id": "8328ae3e-78ce-4895-8d43-39d34faee31a",
   "metadata": {},
   "outputs": [
    {
     "name": "stdout",
     "output_type": "stream",
     "text": [
      "a is not equal to b\n"
     ]
    }
   ],
   "source": [
    "#Example\n",
    "a = 40\n",
    "b = 60\n",
    "if a != b:\n",
    "  print(\"a is not equal to b\")"
   ]
  },
  {
   "cell_type": "code",
   "execution_count": 22,
   "id": "21802765-c0d1-444d-a2d1-627b43b6676d",
   "metadata": {},
   "outputs": [
    {
     "name": "stdout",
     "output_type": "stream",
     "text": [
      "a is less than b\n"
     ]
    }
   ],
   "source": [
    "#Example\n",
    "a = 40\n",
    "b = 80\n",
    "if a < b:\n",
    "  print(\"a is less than b\")"
   ]
  },
  {
   "cell_type": "code",
   "execution_count": 24,
   "id": "562ad647-71af-423b-bbfb-d13e214dbb33",
   "metadata": {},
   "outputs": [
    {
     "name": "stdout",
     "output_type": "stream",
     "text": [
      "a is less than equal to b\n"
     ]
    }
   ],
   "source": [
    "#Example\n",
    "a = 80\n",
    "b = 80\n",
    "if a <= b:\n",
    "  print(\"a is less than equal to b\")"
   ]
  },
  {
   "cell_type": "code",
   "execution_count": 26,
   "id": "079018e5-996a-489e-973d-aeaf4befd713",
   "metadata": {},
   "outputs": [
    {
     "name": "stdout",
     "output_type": "stream",
     "text": [
      "a is greater than b\n"
     ]
    }
   ],
   "source": [
    "#Example\n",
    "a = 100\n",
    "b = 80\n",
    "if a > b:\n",
    "  print(\"a is greater than b\")"
   ]
  },
  {
   "cell_type": "code",
   "execution_count": 28,
   "id": "9574fd63-13a6-4813-8303-f7d3f11956a0",
   "metadata": {},
   "outputs": [
    {
     "name": "stdout",
     "output_type": "stream",
     "text": [
      "a is greater than is equal to b\n"
     ]
    }
   ],
   "source": [
    "#Example\n",
    "a = 100\n",
    "b = 100\n",
    "if a >= b:\n",
    "  print(\"a is greater than is equal to b\")"
   ]
  },
  {
   "cell_type": "code",
   "execution_count": 30,
   "id": "2a420ccb-7c7e-4925-9e7d-73016c5c3970",
   "metadata": {},
   "outputs": [
    {
     "name": "stdout",
     "output_type": "stream",
     "text": [
      "b is not equal to a\n"
     ]
    }
   ],
   "source": [
    "#Example\n",
    "a = 80\n",
    "b = 60\n",
    "if b != a:\n",
    "  print(\"b is not equal to a\")"
   ]
  },
  {
   "cell_type": "code",
   "execution_count": 34,
   "id": "e4f41fbd-9c85-4190-9fcc-2ae2d2aa8a64",
   "metadata": {},
   "outputs": [
    {
     "name": "stdout",
     "output_type": "stream",
     "text": [
      "b is less than equal to a\n"
     ]
    }
   ],
   "source": [
    "#Example\n",
    "a = 10\n",
    "b = 10\n",
    "if b <= a:\n",
    "  print(\"b is less than equal to a\")"
   ]
  },
  {
   "cell_type": "code",
   "execution_count": null,
   "id": "00ee385e-c104-4b65-8e26-89bd2a109fb1",
   "metadata": {},
   "outputs": [],
   "source": []
  }
 ],
 "metadata": {
  "kernelspec": {
   "display_name": "Python 3 (ipykernel)",
   "language": "python",
   "name": "python3"
  },
  "language_info": {
   "codemirror_mode": {
    "name": "ipython",
    "version": 3
   },
   "file_extension": ".py",
   "mimetype": "text/x-python",
   "name": "python",
   "nbconvert_exporter": "python",
   "pygments_lexer": "ipython3",
   "version": "3.11.7"
  }
 },
 "nbformat": 4,
 "nbformat_minor": 5
}
