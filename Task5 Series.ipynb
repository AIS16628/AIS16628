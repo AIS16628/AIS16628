{
 "cells": [
  {
   "cell_type": "markdown",
   "id": "2626f79c-4f22-4eb3-a0c5-9e3baaa22fea",
   "metadata": {},
   "source": [
    "#Pandas Introduction\n",
    "Pandas is a Python library used for working with data sets.\n",
    "\n",
    "It has functions for analyzing, cleaning, exploring, and manipulating data.\n",
    "\n",
    "The name \"Pandas\" has a reference to both \"Panel Data\", and \"Python Data Analysis\" and was created by Wes McKinney in 2008.\n",
    "Use :\r\n",
    "Pandas allows us to analyze big data and make conclusions based on statistical theories.\r\n",
    "\r\n",
    "Pandas can clean messy data sets, and make them readable and relevant.\r\n",
    "\r\n",
    "Relevant data is very important in data science."
   ]
  },
  {
   "cell_type": "markdown",
   "id": "fd75aff5-d28e-4bc4-b672-a75f6cf2f3cd",
   "metadata": {},
   "source": [
    "#Installation of Pandas\n",
    "#If you have Python and PIP already installed on a system, then installation of Pandas is very easy.\n",
    "\n",
    "#Install it using this command:\n",
    "\n",
    "C:\\Users\\rahul>pip install pandas"
   ]
  },
  {
   "cell_type": "code",
   "execution_count": 12,
   "id": "877a456e-7037-483f-9e2c-d043667cb536",
   "metadata": {},
   "outputs": [],
   "source": [
    "#Import Pandas\n",
    "#Once Pandas is installed, import it in your applications by adding the import keyword:\n",
    "\n",
    "import pandas"
   ]
  },
  {
   "cell_type": "code",
   "execution_count": 14,
   "id": "27a32b2a-6e38-4c1f-9598-f61accd83337",
   "metadata": {},
   "outputs": [
    {
     "name": "stdout",
     "output_type": "stream",
     "text": [
      "    cars  passings\n",
      "0    BMW         3\n",
      "1  Volvo         7\n",
      "2   Ford         2\n"
     ]
    }
   ],
   "source": [
    "#Example\n",
    "import pandas\n",
    "\n",
    "mydataset = {\n",
    "  'cars': [\"BMW\", \"Volvo\", \"Ford\"],\n",
    "  'passings': [3, 7, 2]\n",
    "}\n",
    "\n",
    "myvar = pandas.DataFrame(mydataset)\n",
    "\n",
    "print(myvar)"
   ]
  },
  {
   "cell_type": "code",
   "execution_count": 18,
   "id": "75e9ffab-5973-4fc0-a97f-00fe44fadf70",
   "metadata": {},
   "outputs": [],
   "source": [
    "#Pandas as pd\n",
    "#Pandas is usually imported under the pd alias.\n",
    "import pandas as pd"
   ]
  },
  {
   "cell_type": "code",
   "execution_count": 20,
   "id": "5245f42b-b36c-4770-a70e-275acd818b0f",
   "metadata": {},
   "outputs": [
    {
     "name": "stdout",
     "output_type": "stream",
     "text": [
      "    cars  passings\n",
      "0    BMW         3\n",
      "1  Volvo         7\n",
      "2   Ford         2\n"
     ]
    }
   ],
   "source": [
    "#Example\n",
    "import pandas as pd\n",
    "\n",
    "mydataset = {\n",
    "  'cars': [\"BMW\", \"Volvo\", \"Ford\"],\n",
    "  'passings': [3, 7, 2]\n",
    "}\n",
    "\n",
    "myvar = pd.DataFrame(mydataset)\n",
    "\n",
    "print(myvar)"
   ]
  },
  {
   "cell_type": "code",
   "execution_count": 22,
   "id": "acdb7ded-61b5-47b8-a415-cf10f42c38c5",
   "metadata": {},
   "outputs": [
    {
     "name": "stdout",
     "output_type": "stream",
     "text": [
      "2.1.4\n"
     ]
    }
   ],
   "source": [
    "#Checking Pandas Version\n",
    "#The version string is stored under __version__ attribute.\n",
    "#Example\n",
    "import pandas as pd\n",
    "\n",
    "print(pd.__version__)"
   ]
  },
  {
   "cell_type": "markdown",
   "id": "18707d7f-ce4e-489f-b418-2bfc3625a426",
   "metadata": {},
   "source": [
    "#Pandas Series\n",
    "A Pandas Series is like a column in a table.\n",
    "It is a one-dimensional array holding data of any type."
   ]
  },
  {
   "cell_type": "code",
   "execution_count": 24,
   "id": "8efdaf3f-ddb5-4f37-914d-a2dc09238304",
   "metadata": {},
   "outputs": [
    {
     "name": "stdout",
     "output_type": "stream",
     "text": [
      "0    5\n",
      "1    7\n",
      "2    6\n",
      "dtype: int64\n"
     ]
    }
   ],
   "source": [
    "#Example\n",
    "#Create a simple Pandas Series from a list:\n",
    "\n",
    "import pandas as pd\n",
    "\n",
    "a = [5, 7, 6]\n",
    "\n",
    "myvar = pd.Series(a)\n",
    "\n",
    "print(myvar)"
   ]
  },
  {
   "cell_type": "code",
   "execution_count": 26,
   "id": "c0866191-6f80-4dd5-8168-86df76c99be7",
   "metadata": {},
   "outputs": [
    {
     "name": "stdout",
     "output_type": "stream",
     "text": [
      "5\n"
     ]
    }
   ],
   "source": [
    "#Labels\n",
    "#If nothing else is specified, the values are labeled with their index number. First value has index 0, second value has index 1 etc.\n",
    "#This label can be used to access a specified value.\n",
    "#Example\n",
    "#Return the first value of the Series:\n",
    "\n",
    "print(myvar[0])"
   ]
  },
  {
   "cell_type": "code",
   "execution_count": 30,
   "id": "093f0d98-9865-4263-9191-ae57d8364451",
   "metadata": {},
   "outputs": [
    {
     "name": "stdout",
     "output_type": "stream",
     "text": [
      "x    5\n",
      "y    7\n",
      "z    6\n",
      "dtype: int64\n",
      "7\n"
     ]
    }
   ],
   "source": [
    "#Create Labels\n",
    "#With the index argument, you can name your own labels.\n",
    "#Example\n",
    "#Create your own labels:\n",
    "\n",
    "import pandas as pd\n",
    "\n",
    "a = [5, 7, 6]\n",
    "\n",
    "myvar = pd.Series(a, index = [\"x\", \"y\", \"z\"])\n",
    "\n",
    "print(myvar)\n",
    "print(myvar[\"y\"])"
   ]
  },
  {
   "cell_type": "code",
   "execution_count": 32,
   "id": "f320110e-11e0-4a39-933a-fbfcc8bfce0d",
   "metadata": {},
   "outputs": [
    {
     "name": "stdout",
     "output_type": "stream",
     "text": [
      "day1    540\n",
      "day2    560\n",
      "day3    570\n",
      "dtype: int64\n"
     ]
    }
   ],
   "source": [
    "#Key/Value Objects as Series\n",
    "#Example\n",
    "#Create a simple Pandas Series from a dictionary:\n",
    "\n",
    "import pandas as pd\n",
    "\n",
    "calories = {\"day1\": 540, \"day2\": 560, \"day3\": 570}\n",
    "\n",
    "myvar = pd.Series(calories)\n",
    "\n",
    "print(myvar)"
   ]
  },
  {
   "cell_type": "code",
   "execution_count": 34,
   "id": "49b7b13f-7b5a-49a0-ac4c-22535e410812",
   "metadata": {},
   "outputs": [
    {
     "name": "stdout",
     "output_type": "stream",
     "text": [
      "day1    420\n",
      "day2    380\n",
      "dtype: int64\n"
     ]
    }
   ],
   "source": [
    "#Example\n",
    "#Create a Series using only data from \"day1\" and \"day2\":\n",
    "\n",
    "import pandas as pd\n",
    "\n",
    "calories = {\"day1\": 420, \"day2\": 380, \"day3\": 390}\n",
    "\n",
    "myvar = pd.Series(calories, index = [\"day1\", \"day2\"])\n",
    "\n",
    "print(myvar)"
   ]
  },
  {
   "cell_type": "code",
   "execution_count": 38,
   "id": "19eaeb4a-8da4-429c-8778-1b80201db82b",
   "metadata": {},
   "outputs": [
    {
     "name": "stdout",
     "output_type": "stream",
     "text": [
      "   calories  duration\n",
      "0       420        50\n",
      "1       380        40\n",
      "2       390        45\n"
     ]
    }
   ],
   "source": [
    "#DataFrames\n",
    "#Data sets in Pandas are usually multi-dimensional tables, called DataFrames.\n",
    "#Series is like a column, a DataFrame is the whole table.\n",
    "\n",
    "#Example\n",
    "#Create a DataFrame from two Series:\n",
    "\n",
    "import pandas as pd\n",
    "\n",
    "data = {\n",
    "  \"calories\": [420, 380, 390],\n",
    "  \"duration\": [50, 40, 45]\n",
    "}\n",
    "\n",
    "myvar = pd.DataFrame(data)\n",
    "\n",
    "print(myvar)"
   ]
  },
  {
   "cell_type": "code",
   "execution_count": 48,
   "id": "a8ecf65d-1783-4935-8f85-70368c87e609",
   "metadata": {},
   "outputs": [
    {
     "name": "stdout",
     "output_type": "stream",
     "text": [
      "b    2\n",
      "c    3\n",
      "d    4\n",
      "dtype: int64\n",
      "b    2\n",
      "c    3\n",
      "d    4\n",
      "dtype: int64\n"
     ]
    }
   ],
   "source": [
    "# Opereation\n",
    "# slicing\n",
    "import pandas as pd\n",
    "s = pd.Series([1, 2, 3, 4, 5], index=['a', 'b', 'c', 'd', 'e'])\n",
    "#slincing by labels\n",
    "print(s['b':'d'])\n",
    "#slicing by position\n",
    "print(s[1:4])"
   ]
  },
  {
   "cell_type": "code",
   "execution_count": 54,
   "id": "b6ee357e-8632-4bc3-8673-30252b9cf65e",
   "metadata": {},
   "outputs": [
    {
     "name": "stdout",
     "output_type": "stream",
     "text": [
      "0     3\n",
      "1     7\n",
      "2    11\n",
      "3    15\n",
      "dtype: int64\n",
      "0     2\n",
      "1    12\n",
      "2    30\n",
      "3    56\n",
      "dtype: int64\n"
     ]
    }
   ],
   "source": [
    "# Arithmetic Operations\n",
    "s1 = pd.Series([1,3,5,7])\n",
    "s2 = pd.Series([2,4,6,8])\n",
    "# Element wise addition\n",
    "print(s1 + s2)\n",
    "#Scalar multiplication\n",
    "print(s1 * s2)"
   ]
  },
  {
   "cell_type": "code",
   "execution_count": 56,
   "id": "0ce2b4a4-0d4e-4dbe-9ff9-f942951ce5de",
   "metadata": {},
   "outputs": [
    {
     "name": "stdout",
     "output_type": "stream",
     "text": [
      "0    False\n",
      "1     True\n",
      "2     True\n",
      "3     True\n",
      "dtype: bool\n"
     ]
    }
   ],
   "source": [
    "#Boolean Operations\n",
    "# Element-wise comparison\n",
    "print(s1 > 2)\n",
    "s1=pd.Series([1,3,5,7])"
   ]
  },
  {
   "cell_type": "code",
   "execution_count": 58,
   "id": "81df15ff-3b0e-4ccb-b644-061ea93f7823",
   "metadata": {},
   "outputs": [
    {
     "name": "stdout",
     "output_type": "stream",
     "text": [
      "16\n",
      "4.0\n",
      "1\n",
      "7\n"
     ]
    }
   ],
   "source": [
    "# Aggregation and Reduction\n",
    "s = pd.Series([1,3,5,7])\n",
    "print(s.sum())   #sum of all elements\n",
    "print(s.mean())  #mean of all elements\n",
    "print(s.min())   #Minimum value\n",
    "print(s.max())   #Maximum value"
   ]
  },
  {
   "cell_type": "code",
   "execution_count": 64,
   "id": "2b353be4-22b9-4ced-abe8-93ab5bf4df4c",
   "metadata": {},
   "outputs": [
    {
     "name": "stdout",
     "output_type": "stream",
     "text": [
      "0     5\n",
      "1     6\n",
      "3     7\n",
      "2     8\n",
      "4    10\n",
      "5    15\n",
      "dtype: int64\n",
      "0     5\n",
      "1     6\n",
      "2     8\n",
      "3     7\n",
      "4    10\n",
      "5    15\n",
      "dtype: int64\n",
      "0    1.0\n",
      "1    2.0\n",
      "2    4.0\n",
      "3    3.0\n",
      "4    5.0\n",
      "5    6.0\n",
      "dtype: float64\n"
     ]
    }
   ],
   "source": [
    "# Sorting and Ranking\n",
    "s = pd.Series([5,6,8,7,10,15])\n",
    "# sorting by values\n",
    "print(s.sort_values())\n",
    "\n",
    "# sorting by index\n",
    "print(s.sort_index())\n",
    "\n",
    "#Ranking\n",
    "print(s.rank())"
   ]
  },
  {
   "cell_type": "code",
   "execution_count": 68,
   "id": "abd99aa4-d97b-4e00-9b90-8e158e924b76",
   "metadata": {},
   "outputs": [
    {
     "name": "stdout",
     "output_type": "stream",
     "text": [
      "0    False\n",
      "1    False\n",
      "2     True\n",
      "3    False\n",
      "4    False\n",
      "dtype: bool\n",
      "0    1.0\n",
      "1    2.0\n",
      "2    0.0\n",
      "3    4.0\n",
      "4    5.0\n",
      "dtype: float64\n"
     ]
    }
   ],
   "source": [
    "#Handling Missing Data\n",
    "s = pd.Series([1,2,None,4,5])\n",
    "#check for missing values\n",
    "print(s.isnull())\n",
    "#Fill missing value with a specific value\n",
    "print(s.fillna(0))"
   ]
  },
  {
   "cell_type": "code",
   "execution_count": 74,
   "id": "a3bcceb0-6cc4-4742-be4b-ce3666939568",
   "metadata": {},
   "outputs": [
    {
     "name": "stdout",
     "output_type": "stream",
     "text": [
      "0    2.000000\n",
      "1    2.449490\n",
      "2    3.000000\n",
      "3    3.872983\n",
      "dtype: float64\n"
     ]
    }
   ],
   "source": [
    "#Element-wise Functions:\n",
    "import pandas as pd\n",
    "# creating a series objects\n",
    "s = pd.Series([4,6,9,15])\n",
    "print(s**0.5)"
   ]
  },
  {
   "cell_type": "code",
   "execution_count": null,
   "id": "2f9d2b4d-8f33-421e-9d43-8b760d1bb835",
   "metadata": {},
   "outputs": [],
   "source": []
  }
 ],
 "metadata": {
  "kernelspec": {
   "display_name": "Python 3 (ipykernel)",
   "language": "python",
   "name": "python3"
  },
  "language_info": {
   "codemirror_mode": {
    "name": "ipython",
    "version": 3
   },
   "file_extension": ".py",
   "mimetype": "text/x-python",
   "name": "python",
   "nbconvert_exporter": "python",
   "pygments_lexer": "ipython3",
   "version": "3.11.7"
  }
 },
 "nbformat": 4,
 "nbformat_minor": 5
}
