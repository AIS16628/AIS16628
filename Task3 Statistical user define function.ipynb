{
 "cells": [
  {
   "cell_type": "markdown",
   "id": "a57eadab-9887-4e30-aeec-67a2aa41dc00",
   "metadata": {},
   "source": [
    "Mean\n",
    "Explanation : The mean (average) is calculated by summing all numbers in the list and dividing by the number of element"
   ]
  },
  {
   "cell_type": "code",
   "execution_count": 12,
   "id": "94d3bc34-a7ef-4ece-b217-225c491f4e7e",
   "metadata": {},
   "outputs": [
    {
     "name": "stdout",
     "output_type": "stream",
     "text": [
      "The mean of the list is: 30.0\n"
     ]
    }
   ],
   "source": [
    "\n",
    "def cal_mean(num):\n",
    "    if len(num)==0:\n",
    "        return(0)\n",
    "    mean=sum(num)/len(num)\n",
    "    return(mean)\n",
    "# Example\n",
    "num = [10,20,30,40,50]\n",
    "mean = cal_mean(num)\n",
    "print(\"The mean of the list is:\",mean)"
   ]
  },
  {
   "cell_type": "markdown",
   "id": "812e24ee-ef53-4f15-acd6-71f0d0fdded2",
   "metadata": {},
   "source": [
    "#Median\n",
    "The median is a statistical measure that represents the middle value of a sorted list of numbers.\n",
    "If the list has an even number of elements, the median is the average of the two middle numbers."
   ]
  },
  {
   "cell_type": "code",
   "execution_count": 34,
   "id": "6fb0cd69-b578-4b1d-a305-b8c78672a4df",
   "metadata": {},
   "outputs": [
    {
     "name": "stdout",
     "output_type": "stream",
     "text": [
      "Median: 3.5\n"
     ]
    }
   ],
   "source": [
    "def median(l):\n",
    "    sorted_number=sorted(l)\n",
    "    n=len(sorted_number)\n",
    "    if n % 2 == 0:\n",
    "        #if the number of element is even,take the average of the middle two numbers\n",
    "        middle_left=sorted_number[n // 2 - 1]\n",
    "        middle_right=sorted_number[n // 2]\n",
    "        return(middle_left + middle_right) / 2\n",
    "    else:\n",
    "        #if the number of element is odd,return the middle number\n",
    "         return sorted_numbers[n // 2]\n",
    "l=[5,2,8,4,1,3]\n",
    "print(\"Median:\",median(l))"
   ]
  },
  {
   "cell_type": "markdown",
   "id": "b48bf7c2-bf7f-4147-b4a8-45482854ae21",
   "metadata": {},
   "source": [
    "#Mode\n",
    "The mode is a statistical measure that represents the most frequently occurring value in a dataset. \n",
    "Unlike the median, which focuses on the middle value, and the mean, which represents the average value\n",
    "the mode highlights the value that appears most frequently."
   ]
  },
  {
   "cell_type": "code",
   "execution_count": 17,
   "id": "1a8acc18-a635-42d0-bd90-916c57d4fb51",
   "metadata": {},
   "outputs": [
    {
     "name": "stdout",
     "output_type": "stream",
     "text": [
      "Mode: [2]\n"
     ]
    }
   ],
   "source": [
    "\n",
    "def cal_mode(l):\n",
    "    counts = {}\n",
    "    for num in l:\n",
    "        if num in counts:\n",
    "            counts[num] += 1\n",
    "        else :\n",
    "            counts[num] = 1\n",
    "    max_count = max(counts.values())\n",
    "    mode = [num for num , count in counts. items() if count == max_count]\n",
    "    return mode\n",
    "\n",
    "#Example\n",
    "l = [1, 2, 3, 4, 5, 2, 4, 7, 2]\n",
    "mode = cal_mode(l)\n",
    "print(\"Mode:\", mode)        "
   ]
  },
  {
   "cell_type": "code",
   "execution_count": 27,
   "id": "b7a7ce12-f968-4529-9e99-ca672c15b4ff",
   "metadata": {},
   "outputs": [
    {
     "name": "stdout",
     "output_type": "stream",
     "text": [
      "Range: 84\n"
     ]
    }
   ],
   "source": [
    "# Range\n",
    "def cal_range(l):\n",
    "    min_value=min(l)\n",
    "    max_value=max(l)\n",
    "    return max_value - min_value\n",
    "#Example\n",
    "l = [12,45,65,75,87,96]\n",
    "range=cal_range(l)\n",
    "print(\"Range:\",range)"
   ]
  },
  {
   "cell_type": "code",
   "execution_count": 53,
   "id": "0d125909-0b0d-4095-bead-af17ebcbda92",
   "metadata": {},
   "outputs": [
    {
     "name": "stdout",
     "output_type": "stream",
     "text": [
      "Var: 5.0\n"
     ]
    }
   ],
   "source": [
    "# variance\n",
    "def cal_variance(l):\n",
    "    if len(l)==0:\n",
    "        return(0)\n",
    "    mean=sum(l)/len(l)\n",
    "    s=[(x-mean)**2 for x in l]\n",
    "    var=sum(s)/len(l)\n",
    "    return(var)\n",
    "#Example\n",
    "l=[2,4,6,8]\n",
    "var=cal_variance(l)\n",
    "print(\"Var:\",var)\n"
   ]
  },
  {
   "cell_type": "code",
   "execution_count": 1,
   "id": "9a820285-f232-42ac-817d-6fe63da76db0",
   "metadata": {},
   "outputs": [
    {
     "name": "stdout",
     "output_type": "stream",
     "text": [
      "Sd: 2.23606797749979\n"
     ]
    }
   ],
   "source": [
    "# Standard devition\n",
    "def cal_sd(l):\n",
    "    if len(l)==0:\n",
    "        return(0)\n",
    "    mean=sum(l)/len(l)\n",
    "    s=[(x-mean)**2 for x in l]\n",
    "    var=sum(s)/len(l)\n",
    "    sd=var**0.5\n",
    "    return(sd)\n",
    "#Example\n",
    "l=[2,4,6,8]\n",
    "sd=cal_sd(l)\n",
    "print(\"Sd:\",sd)"
   ]
  },
  {
   "cell_type": "code",
   "execution_count": 3,
   "id": "204d9c6d-1055-42b7-9b25-ab84a931da3b",
   "metadata": {},
   "outputs": [
    {
     "name": "stdout",
     "output_type": "stream",
     "text": [
      "Covariance: 2.3499999999999996\n"
     ]
    }
   ],
   "source": [
    "#Covariance\n",
    "def covariance(X,Y):\n",
    "    n = len (X)\n",
    "    mean_X = sum(X)/n\n",
    "    mean_Y = sum(Y)/n\n",
    "\n",
    "    cov = sum((X[i] - mean_X) * (Y[i] - mean_Y) for i in range(n)) / (n - 1)\n",
    "    return cov\n",
    "#Example\n",
    "X = [4,5,6,7,5]\n",
    "Y = [11,12,14,17,15]\n",
    "cov=covariance(X,Y)\n",
    "print(\"Covariance:\", cov)"
   ]
  },
  {
   "cell_type": "code",
   "execution_count": 5,
   "id": "eb46c7f1-bf0a-405b-b843-7249adb9e360",
   "metadata": {},
   "outputs": [
    {
     "name": "stdout",
     "output_type": "stream",
     "text": [
      "Correlation: -0.03595251651056285\n"
     ]
    }
   ],
   "source": [
    "#Correlation\n",
    "def correlation(X,Y):\n",
    "    n=len(X)\n",
    "    mean_X = sum(X)/n\n",
    "    mean_Y = sum(Y)/n\n",
    "    a=sum((X[i]-mean_X)*(Y[i]-mean_Y) for i in range(n)) / (n - 1)\n",
    "    b=(sum((x-mean_X)**2 for x in X)*(sum((y-mean_Y)**2 for y in Y))**0.5)\n",
    "    corr=a/b\n",
    "    return corr\n",
    "#Example\n",
    "X = [4,5,6,7,5]\n",
    "Y = [15,18,19,11,14]\n",
    "corr=correlation(X,Y)\n",
    "print(\"Correlation:\",corr)\n"
   ]
  },
  {
   "cell_type": "code",
   "execution_count": 7,
   "id": "3a98dbbc-9e59-430d-89fe-e2152f06af46",
   "metadata": {},
   "outputs": [
    {
     "name": "stdout",
     "output_type": "stream",
     "text": [
      "Skewness: -0.20569227175572483\n"
     ]
    }
   ],
   "source": [
    "#Skewness\n",
    "def skewness(l):\n",
    "    n=len(l)\n",
    "    mean=sum(l)/n\n",
    "    a=sum((x-mean)**3 for x in l)/n\n",
    "    b=(sum((x-mean)**2 for x in l)/n)**(3/2)\n",
    "    skew=a/b\n",
    "    return(skew)\n",
    "#Example\n",
    "l=[2,4,6,8,9]\n",
    "skew=skewness(l)\n",
    "print(\"Skewness:\",skew)\n",
    "    "
   ]
  },
  {
   "cell_type": "code",
   "execution_count": 11,
   "id": "b4af4a4b-6470-4574-b9fd-72591c7d4ae1",
   "metadata": {},
   "outputs": [
    {
     "name": "stdout",
     "output_type": "stream",
     "text": [
      "kurtosis: -1.3\n"
     ]
    }
   ],
   "source": [
    "# kurtosis\n",
    "def kurtosis(l):\n",
    "    n=len(l)\n",
    "    mean=sum(l)/n\n",
    "    a=sum((x-mean)**4 for x in l)/n\n",
    "    b=(sum((x-mean)**2 for x in l)/n)**2\n",
    "    kurt=(a/b)-3\n",
    "    return(kurt)\n",
    "#Example\n",
    "l=[4,5,6,7,8]\n",
    "kurt=kurtosis(l)\n",
    "print(\"kurtosis:\",kurt)"
   ]
  },
  {
   "cell_type": "code",
   "execution_count": null,
   "id": "1e82706a-b3e4-445c-9c90-4e40c3cee08e",
   "metadata": {},
   "outputs": [],
   "source": []
  }
 ],
 "metadata": {
  "kernelspec": {
   "display_name": "Python 3 (ipykernel)",
   "language": "python",
   "name": "python3"
  },
  "language_info": {
   "codemirror_mode": {
    "name": "ipython",
    "version": 3
   },
   "file_extension": ".py",
   "mimetype": "text/x-python",
   "name": "python",
   "nbconvert_exporter": "python",
   "pygments_lexer": "ipython3",
   "version": "3.11.7"
  }
 },
 "nbformat": 4,
 "nbformat_minor": 5
}
