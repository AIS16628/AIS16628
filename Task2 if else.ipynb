{
 "cells": [
  {
   "cell_type": "markdown",
   "id": "0d763905-9df8-42c4-8773-461258857eb7",
   "metadata": {},
   "source": [
    "#Python Conditions and If statements\n",
    "#Python supports the usual logical conditions from mathematics:\n",
    "\n",
    "Equals: a == b\n",
    "Not Equals: a != b\n",
    "Less than: a < b\n",
    "Less than or equal to: a <= b\n",
    "Greater than: a > b\n",
    "Greater than or equal to: a >= b"
   ]
  },
  {
   "cell_type": "code",
   "execution_count": 11,
   "id": "20af70ab-6531-44a6-ad84-06e97ba5f316",
   "metadata": {},
   "outputs": [
    {
     "name": "stdout",
     "output_type": "stream",
     "text": [
      "a is greater than b\n"
     ]
    }
   ],
   "source": [
    "#The else keyword catches anything which isn't caught by the preceding conditions.\n",
    "\n",
    "#Example1\n",
    "a = 200\n",
    "b = 33\n",
    "if b > a:\n",
    "  print(\"b is greater than a\")\n",
    "elif a == b:\n",
    "  print(\"a and b are equal\")\n",
    "else:\n",
    "  print(\"a is greater than b\")"
   ]
  },
  {
   "cell_type": "code",
   "execution_count": 13,
   "id": "441a2855-3f5e-4271-9cd9-b9d87786581b",
   "metadata": {},
   "outputs": [
    {
     "name": "stdout",
     "output_type": "stream",
     "text": [
      "b is not greater than a\n"
     ]
    }
   ],
   "source": [
    "#You can also have an else without the elif:\n",
    "\n",
    "#Example2\n",
    "a = 100\n",
    "b = 22\n",
    "if b > a:\n",
    "  print(\"b is greater than a\")\n",
    "else:\n",
    "  print(\"b is not greater than a\")"
   ]
  },
  {
   "cell_type": "code",
   "execution_count": 15,
   "id": "6ef9c698-afdd-4851-9cc5-18070f453fd5",
   "metadata": {},
   "outputs": [
    {
     "name": "stdout",
     "output_type": "stream",
     "text": [
      "B\n"
     ]
    }
   ],
   "source": [
    "#Short Hand If ... Else\n",
    "#If you have only one statement to execute, one for if, and one for else, you can put it all on the same line:\n",
    "\n",
    "#Example3\n",
    "#One line if else statement:\n",
    "\n",
    "a = 2\n",
    "b = 330\n",
    "print(\"A\") if a > b else print(\"B\")"
   ]
  },
  {
   "cell_type": "code",
   "execution_count": 17,
   "id": "5b530bc8-211b-4551-804e-31ec2790d7c3",
   "metadata": {},
   "outputs": [
    {
     "name": "stdout",
     "output_type": "stream",
     "text": [
      "b is less than a\n"
     ]
    }
   ],
   "source": [
    "#Example4\n",
    "a=75\n",
    "b=25\n",
    "if b+a == 105:\n",
    "    print(\"a & b are equal\")\n",
    "else:\n",
    "    print(\"b is less than a\")"
   ]
  },
  {
   "cell_type": "code",
   "execution_count": 21,
   "id": "285d5dce-8722-46f2-97ef-8f95964c88a2",
   "metadata": {},
   "outputs": [
    {
     "name": "stdout",
     "output_type": "stream",
     "text": [
      "a is greater thasn equal to b\n"
     ]
    }
   ],
   "source": [
    "#Example5\n",
    "a=42\n",
    "b=25\n",
    "if a >= b:\n",
    "    print(\"a is greater thasn equal to b\")\n",
    "else:\n",
    "    print(\"a is less than equal to b\")"
   ]
  },
  {
   "cell_type": "code",
   "execution_count": 23,
   "id": "fbec3e3e-8eeb-487a-8b89-55ef4f185384",
   "metadata": {},
   "outputs": [
    {
     "name": "stdout",
     "output_type": "stream",
     "text": [
      "a & b are not equal\n"
     ]
    }
   ],
   "source": [
    "#Example6\n",
    "a=60\n",
    "b=35\n",
    "if  a == b:\n",
    "    print(\"a & b are equal\")\n",
    "else:\n",
    "    print(\"a & b are not equal\")"
   ]
  },
  {
   "cell_type": "code",
   "execution_count": 25,
   "id": "65d48447-ff4e-45e3-b21e-3c45000cfc45",
   "metadata": {},
   "outputs": [
    {
     "name": "stdout",
     "output_type": "stream",
     "text": [
      "a is equal to 40\n"
     ]
    }
   ],
   "source": [
    "#Example7\n",
    "a=40\n",
    "if a!=40:\n",
    "    print(\"a is not equal to 40\")\n",
    "else:\n",
    "    print(\"a is equal to 40\")\n"
   ]
  },
  {
   "cell_type": "code",
   "execution_count": 27,
   "id": "a47d7ec0-0223-4e83-9fdc-3677bc4f2f2b",
   "metadata": {},
   "outputs": [
    {
     "name": "stdout",
     "output_type": "stream",
     "text": [
      "multiple is correct\n"
     ]
    }
   ],
   "source": [
    "#Example8\n",
    "a = 10\n",
    "b = 5\n",
    "if (a*b==50):\n",
    "    print(\"multiple is correct\")\n",
    "else:\n",
    "    print(\"multiple is wrong\")"
   ]
  },
  {
   "cell_type": "code",
   "execution_count": 29,
   "id": "7ab1ab36-1ad2-400b-a041-c8d9fe880a62",
   "metadata": {},
   "outputs": [
    {
     "name": "stdout",
     "output_type": "stream",
     "text": [
      "congratulation :)\n"
     ]
    }
   ],
   "source": [
    "#Example9\n",
    "# To pass in exam earn atleast 40 marks\n",
    "a = 50\n",
    "if (a >= 40):\n",
    "    print(\"congratulation :)\")\n",
    "else :\n",
    "    print(\"Better luck next time \")"
   ]
  },
  {
   "cell_type": "code",
   "execution_count": 33,
   "id": "95936aa1-39eb-41a6-acad-33e9572a9f9c",
   "metadata": {},
   "outputs": [
    {
     "name": "stdout",
     "output_type": "stream",
     "text": [
      "Better luck next time \n"
     ]
    }
   ],
   "source": [
    "#Example10\n",
    "# To pass in exam earn atleast 40 marks\n",
    "a = 35\n",
    "if (a >= 40):\n",
    "    print(\"congratulation :)\")\n",
    "else :\n",
    "    print(\"Better luck next time \")"
   ]
  },
  {
   "cell_type": "code",
   "execution_count": null,
   "id": "9921ba13-c312-484d-bb06-6bdc55c459d8",
   "metadata": {},
   "outputs": [],
   "source": []
  }
 ],
 "metadata": {
  "kernelspec": {
   "display_name": "Python 3 (ipykernel)",
   "language": "python",
   "name": "python3"
  },
  "language_info": {
   "codemirror_mode": {
    "name": "ipython",
    "version": 3
   },
   "file_extension": ".py",
   "mimetype": "text/x-python",
   "name": "python",
   "nbconvert_exporter": "python",
   "pygments_lexer": "ipython3",
   "version": "3.11.7"
  }
 },
 "nbformat": 4,
 "nbformat_minor": 5
}
