{
 "cells": [
  {
   "cell_type": "markdown",
   "id": "598f24bc-02fc-4067-b527-a2cd25749699",
   "metadata": {},
   "source": [
    "#Set\n",
    "Sets are used to store multiple items in a single variable.\n",
    "\n",
    "Set is one of 4 built-in data types in Python used to store collections of data, the other 3 are List, Tuple, and Dictionary, all with different qualities and usage.\n",
    "\n",
    "A set is a collection which is unordered, unchangeable*, and unindexed.\n",
    "* Note: Set items are unchangeable, but you can remove items and add new items."
   ]
  },
  {
   "cell_type": "code",
   "execution_count": 4,
   "id": "795d0cb7-67e1-4d50-9858-8cea9d5931f1",
   "metadata": {},
   "outputs": [
    {
     "name": "stdout",
     "output_type": "stream",
     "text": [
      "{'banana', 'orange', 'apple'}\n"
     ]
    }
   ],
   "source": [
    "#Sets are written with curly brackets.\n",
    "#ExampleG\n",
    "#Create a Set:\n",
    "set = {\"apple\", \"banana\", \"orange\"}\n",
    "print(set)"
   ]
  },
  {
   "cell_type": "markdown",
   "id": "d0a163ea-efdd-4ef2-b660-2d8be6f2033d",
   "metadata": {},
   "source": [
    "#Set Items\n",
    "Set items are unordered, unchangeable, and do not allow duplicate values.\n",
    "\n",
    "#Unordered\n",
    "Unordered means that the items in a set do not have a defined order.\n",
    "\n",
    "Set items can appear in a different order every time you use them, and cannot be referred to by index or key.\n",
    "\n",
    "#Unchangeable\n",
    "Set items are unchangeable, meaning that we cannot change the items after the set has been created.\n",
    "\n",
    "Once a set is created, you cannot change its items, but you can remove items and add new items.\n",
    "\n"
   ]
  },
  {
   "cell_type": "code",
   "execution_count": 7,
   "id": "77c3391b-7de4-4ccd-ae28-c408dc898a70",
   "metadata": {},
   "outputs": [
    {
     "name": "stdout",
     "output_type": "stream",
     "text": [
      "{'banana', 'orange', 'apple'}\n"
     ]
    }
   ],
   "source": [
    "#Duplicates Not Allowed\n",
    "#Sets cannot have two items with the same value.\n",
    "\n",
    "#Example\n",
    "#Duplicate values will be ignored:\n",
    "set = {\"apple\", \"banana\", \"orange\", \"apple\"}\n",
    "print(set)\n"
   ]
  },
  {
   "cell_type": "code",
   "execution_count": 11,
   "id": "7e4ac11d-b639-4eb6-983b-480b23411412",
   "metadata": {},
   "outputs": [
    {
     "name": "stdout",
     "output_type": "stream",
     "text": [
      "{True, 2, 'banana', 'orange', 'apple'}\n"
     ]
    }
   ],
   "source": [
    "#Note: The values True and 1 are considered the same value in sets, and are treated as duplicates:\n",
    "#Example\n",
    "#True and 1 is considered the same value:\n",
    "set = {\"apple\", \"banana\", \"orange\", True, 1, 2}\n",
    "print(set)\n"
   ]
  },
  {
   "cell_type": "code",
   "execution_count": 13,
   "id": "7998d1ad-0ab3-4943-b737-0a7792147e59",
   "metadata": {},
   "outputs": [
    {
     "name": "stdout",
     "output_type": "stream",
     "text": [
      "{False, True, 'banana', 'orange', 'apple'}\n"
     ]
    }
   ],
   "source": [
    "#Note: The values False and 0 are considered the same value in sets, and are treated as duplicates:\n",
    "#Example\n",
    "#False and 0 is considered the same value:\n",
    "set = {\"apple\", \"banana\", \"orange\", False, True, 0}\n",
    "print(set)"
   ]
  },
  {
   "cell_type": "code",
   "execution_count": 15,
   "id": "e654b089-f8cf-42af-82e3-9ebb06db2b59",
   "metadata": {},
   "outputs": [
    {
     "name": "stdout",
     "output_type": "stream",
     "text": [
      "3\n"
     ]
    }
   ],
   "source": [
    "#Get the Length of a Set\n",
    "#To determine how many items a set has, use the len() function.\n",
    "#Example\n",
    "#Get the number of items in a set:\n",
    "set = {\"apple\", \"banana\", \"orange\"}\n",
    "print(len(set))"
   ]
  },
  {
   "cell_type": "code",
   "execution_count": 19,
   "id": "f14d0f25-63c2-4405-8525-1718b2d04739",
   "metadata": {},
   "outputs": [
    {
     "name": "stdout",
     "output_type": "stream",
     "text": [
      "{'banana', 'orange', 'apple'}\n",
      "{1, 3, 5, 7, 9}\n",
      "{False, True}\n"
     ]
    }
   ],
   "source": [
    "#Set Items - Data Types\n",
    "#Set items can be of any data type:\n",
    "#Example\n",
    "#String, int and boolean data types:\n",
    "set1 = {\"apple\", \"banana\", \"orange\"}\n",
    "set2 = {1, 5, 7, 9, 3}\n",
    "set3 = {True, False, False}\n",
    "print(set1)\n",
    "print(set2)\n",
    "print(set3)"
   ]
  },
  {
   "cell_type": "code",
   "execution_count": 23,
   "id": "f31301bd-f923-4ab6-b1a5-66370e2d292e",
   "metadata": {},
   "outputs": [
    {
     "name": "stdout",
     "output_type": "stream",
     "text": [
      "{True, 50, 'male', 'abc', 44}\n"
     ]
    }
   ],
   "source": [
    "#A set can contain different data types:\n",
    "#Example\n",
    "#A set with strings, integers and boolean values:\n",
    "set1 = {\"abc\", 44, True, 50, \"male\"}\n",
    "print(set1)"
   ]
  },
  {
   "cell_type": "code",
   "execution_count": 27,
   "id": "99869a0b-de27-4bdb-bdc6-2378a8dd0859",
   "metadata": {},
   "outputs": [
    {
     "name": "stdout",
     "output_type": "stream",
     "text": [
      "<class 'set'>\n"
     ]
    }
   ],
   "source": [
    "#type()\n",
    "#From Python's perspective, sets are defined as objects with the data type 'set':\n",
    "#Example\n",
    "myset = {\"apple\", \"banana\", \"orange\"}\n",
    "print(type(myset))"
   ]
  },
  {
   "cell_type": "code",
   "execution_count": 1,
   "id": "05064a5f-23a0-4e17-83d6-a6353945b862",
   "metadata": {},
   "outputs": [
    {
     "name": "stdout",
     "output_type": "stream",
     "text": [
      "{'apple', 'banana', 'orange'}\n"
     ]
    }
   ],
   "source": [
    "#The set() Constructor\n",
    "#It is also possible to use the set() constructor to make a set.\n",
    "#Example\n",
    "#Using the set() constructor to make a set:\n",
    "myset = set((\"apple\", \"banana\", \"orange\")) # note the double round-brackets\n",
    "print(myset)"
   ]
  },
  {
   "cell_type": "code",
   "execution_count": null,
   "id": "386ea5cb-afaa-4cdf-8dc2-31a0e83138ac",
   "metadata": {},
   "outputs": [],
   "source": []
  }
 ],
 "metadata": {
  "kernelspec": {
   "display_name": "Python 3 (ipykernel)",
   "language": "python",
   "name": "python3"
  },
  "language_info": {
   "codemirror_mode": {
    "name": "ipython",
    "version": 3
   },
   "file_extension": ".py",
   "mimetype": "text/x-python",
   "name": "python",
   "nbconvert_exporter": "python",
   "pygments_lexer": "ipython3",
   "version": "3.11.7"
  }
 },
 "nbformat": 4,
 "nbformat_minor": 5
}
