{
 "cells": [
  {
   "cell_type": "code",
   "execution_count": 1,
   "id": "1ddc1442-e9c2-4a47-8f35-28e5d35df5bf",
   "metadata": {},
   "outputs": [
    {
     "data": {
      "text/plain": [
       "5.0"
      ]
     },
     "execution_count": 1,
     "metadata": {},
     "output_type": "execute_result"
    }
   ],
   "source": [
    "# Arithmatic Operator(+,-,*,/,**(power),%(modolus))\n",
    "25/5\n"
   ]
  },
  {
   "cell_type": "code",
   "execution_count": 5,
   "id": "4f0c81dd-57a6-4173-a840-9b4027a5a6ac",
   "metadata": {},
   "outputs": [
    {
     "data": {
      "text/plain": [
       "30"
      ]
     },
     "execution_count": 5,
     "metadata": {},
     "output_type": "execute_result"
    }
   ],
   "source": [
    "6*5"
   ]
  },
  {
   "cell_type": "code",
   "execution_count": 9,
   "id": "a9c50f42-0b6d-4acd-af6e-cdfabe833309",
   "metadata": {},
   "outputs": [
    {
     "data": {
      "text/plain": [
       "9"
      ]
     },
     "execution_count": 9,
     "metadata": {},
     "output_type": "execute_result"
    }
   ],
   "source": [
    "15-6"
   ]
  },
  {
   "cell_type": "code",
   "execution_count": 13,
   "id": "f1e2c072-a47f-4de8-997e-e274c321c131",
   "metadata": {},
   "outputs": [
    {
     "data": {
      "text/plain": [
       "30"
      ]
     },
     "execution_count": 13,
     "metadata": {},
     "output_type": "execute_result"
    }
   ],
   "source": [
    "18+12"
   ]
  },
  {
   "cell_type": "code",
   "execution_count": 17,
   "id": "a3f35ed7-117b-454d-8ddb-f2242de9ff1c",
   "metadata": {},
   "outputs": [
    {
     "data": {
      "text/plain": [
       "64"
      ]
     },
     "execution_count": 17,
     "metadata": {},
     "output_type": "execute_result"
    }
   ],
   "source": [
    "8**2"
   ]
  },
  {
   "cell_type": "code",
   "execution_count": 23,
   "id": "784cdee1-a499-465d-a67e-3a29afafdaaf",
   "metadata": {},
   "outputs": [
    {
     "data": {
      "text/plain": [
       "8"
      ]
     },
     "execution_count": 23,
     "metadata": {},
     "output_type": "execute_result"
    }
   ],
   "source": [
    "8%100"
   ]
  },
  {
   "cell_type": "code",
   "execution_count": 37,
   "id": "e68b80c6-ca9b-4098-9366-516966ea16f9",
   "metadata": {},
   "outputs": [
    {
     "name": "stdout",
     "output_type": "stream",
     "text": [
      "65\n"
     ]
    }
   ],
   "source": [
    "# #Assignment operator\n",
    "# +=value\n",
    "# -=value\n",
    "# *=value\n",
    "# /=value\n",
    "\n",
    "x=60\n",
    "x+=5\n",
    "print(x)"
   ]
  },
  {
   "cell_type": "code",
   "execution_count": 107,
   "id": "86254572-3b23-40c8-b8a0-217049dde259",
   "metadata": {},
   "outputs": [
    {
     "data": {
      "text/plain": [
       "45"
      ]
     },
     "execution_count": 107,
     "metadata": {},
     "output_type": "execute_result"
    }
   ],
   "source": [
    "A=50\n",
    "A-=5\n",
    "A"
   ]
  },
  {
   "cell_type": "code",
   "execution_count": 109,
   "id": "5ab22667-1e02-4497-a0d6-659449ce8ca0",
   "metadata": {},
   "outputs": [],
   "source": [
    "A*=2"
   ]
  },
  {
   "cell_type": "code",
   "execution_count": 113,
   "id": "eeef58c8-aae4-412d-9609-48d61d738714",
   "metadata": {},
   "outputs": [
    {
     "data": {
      "text/plain": [
       "90"
      ]
     },
     "execution_count": 113,
     "metadata": {},
     "output_type": "execute_result"
    }
   ],
   "source": [
    "A"
   ]
  },
  {
   "cell_type": "code",
   "execution_count": 115,
   "id": "3ba808d3-f2fc-4616-8ba4-955c25583467",
   "metadata": {},
   "outputs": [],
   "source": [
    "A/=2"
   ]
  },
  {
   "cell_type": "code",
   "execution_count": 119,
   "id": "464ab820-c2e7-4a7f-983a-7a1ba98e47a2",
   "metadata": {},
   "outputs": [
    {
     "data": {
      "text/plain": [
       "45.0"
      ]
     },
     "execution_count": 119,
     "metadata": {},
     "output_type": "execute_result"
    }
   ],
   "source": [
    "A"
   ]
  },
  {
   "cell_type": "code",
   "execution_count": 121,
   "id": "3496d3ca-b9fa-4cc1-af16-8f9b55d93784",
   "metadata": {},
   "outputs": [
    {
     "data": {
      "text/plain": [
       "False"
      ]
     },
     "execution_count": 121,
     "metadata": {},
     "output_type": "execute_result"
    }
   ],
   "source": [
    "# Comparision Operators\n",
    "2!=2"
   ]
  },
  {
   "cell_type": "code",
   "execution_count": 123,
   "id": "a459d321-c8ac-4cbf-8c87-155211e1423e",
   "metadata": {},
   "outputs": [
    {
     "data": {
      "text/plain": [
       "True"
      ]
     },
     "execution_count": 123,
     "metadata": {},
     "output_type": "execute_result"
    }
   ],
   "source": [
    "6<=6"
   ]
  },
  {
   "cell_type": "code",
   "execution_count": 125,
   "id": "b15dccb4-2c2f-4c8b-aecc-ece38f09cf92",
   "metadata": {},
   "outputs": [
    {
     "data": {
      "text/plain": [
       "True"
      ]
     },
     "execution_count": 125,
     "metadata": {},
     "output_type": "execute_result"
    }
   ],
   "source": [
    "6==6"
   ]
  },
  {
   "cell_type": "code",
   "execution_count": 127,
   "id": "eb29fe06-df54-40cd-a399-6ae403ba0a54",
   "metadata": {},
   "outputs": [
    {
     "data": {
      "text/plain": [
       "True"
      ]
     },
     "execution_count": 127,
     "metadata": {},
     "output_type": "execute_result"
    }
   ],
   "source": [
    "8!=4"
   ]
  },
  {
   "cell_type": "code",
   "execution_count": 129,
   "id": "7921e2f8-6391-4b29-bbf4-4c19288a4fb3",
   "metadata": {},
   "outputs": [
    {
     "data": {
      "text/plain": [
       "True"
      ]
     },
     "execution_count": 129,
     "metadata": {},
     "output_type": "execute_result"
    }
   ],
   "source": [
    "# Logistic Operator\n",
    "#And-Returns True if both Statements are true\n",
    "X=4;\n",
    "X<6 or X<3\n"
   ]
  },
  {
   "cell_type": "code",
   "execution_count": 131,
   "id": "3c0985fc-2b5d-4d3d-abde-28c4a3642a7b",
   "metadata": {},
   "outputs": [
    {
     "data": {
      "text/plain": [
       "True"
      ]
     },
     "execution_count": 131,
     "metadata": {},
     "output_type": "execute_result"
    }
   ],
   "source": [
    "# Or-Returns True if one of the statement is true\n",
    "X=8;\n",
    "X<5 or X<9"
   ]
  },
  {
   "cell_type": "code",
   "execution_count": 133,
   "id": "1af3666a-cbed-4bd5-b9cd-f87f95cab8a2",
   "metadata": {},
   "outputs": [
    {
     "data": {
      "text/plain": [
       "True"
      ]
     },
     "execution_count": 133,
     "metadata": {},
     "output_type": "execute_result"
    }
   ],
   "source": [
    "#not-Reverse the result,returns false if the result is true\n",
    "X=5;\n",
    "not(X<7 and X<0)"
   ]
  },
  {
   "cell_type": "code",
   "execution_count": 135,
   "id": "1e0e13b8-3096-43c3-ab15-6732cc6b4f7f",
   "metadata": {},
   "outputs": [],
   "source": [
    "#Identity Operators\n",
    "X=40"
   ]
  },
  {
   "cell_type": "code",
   "execution_count": 137,
   "id": "1ef525af-1aa7-4304-b089-303ad98bcf87",
   "metadata": {},
   "outputs": [
    {
     "name": "stderr",
     "output_type": "stream",
     "text": [
      "<>:1: SyntaxWarning: \"is\" with a literal. Did you mean \"==\"?\n",
      "<>:1: SyntaxWarning: \"is\" with a literal. Did you mean \"==\"?\n",
      "C:\\Users\\rahul\\AppData\\Local\\Temp\\ipykernel_13188\\3333089886.py:1: SyntaxWarning: \"is\" with a literal. Did you mean \"==\"?\n",
      "  X is 40\n"
     ]
    },
    {
     "data": {
      "text/plain": [
       "True"
      ]
     },
     "execution_count": 137,
     "metadata": {},
     "output_type": "execute_result"
    }
   ],
   "source": [
    "X is 40"
   ]
  },
  {
   "cell_type": "code",
   "execution_count": 139,
   "id": "f23378b0-b7d7-46b8-b7f8-9bff87d8822b",
   "metadata": {},
   "outputs": [
    {
     "name": "stderr",
     "output_type": "stream",
     "text": [
      "<>:1: SyntaxWarning: \"is not\" with a literal. Did you mean \"!=\"?\n",
      "<>:1: SyntaxWarning: \"is not\" with a literal. Did you mean \"!=\"?\n",
      "C:\\Users\\rahul\\AppData\\Local\\Temp\\ipykernel_13188\\661265255.py:1: SyntaxWarning: \"is not\" with a literal. Did you mean \"!=\"?\n",
      "  X is not 40\n"
     ]
    },
    {
     "data": {
      "text/plain": [
       "False"
      ]
     },
     "execution_count": 139,
     "metadata": {},
     "output_type": "execute_result"
    }
   ],
   "source": [
    "X is not 40"
   ]
  },
  {
   "cell_type": "code",
   "execution_count": 141,
   "id": "c73fd378-18b8-4c05-af49-a0210e02766b",
   "metadata": {},
   "outputs": [],
   "source": [
    "#Membership Operators\n",
    "X=(1,60,5,70,5)\n"
   ]
  },
  {
   "cell_type": "code",
   "execution_count": 143,
   "id": "1e4961f7-f45e-4e71-b07f-19c7d035f83c",
   "metadata": {},
   "outputs": [
    {
     "data": {
      "text/plain": [
       "True"
      ]
     },
     "execution_count": 143,
     "metadata": {},
     "output_type": "execute_result"
    }
   ],
   "source": [
    "50 not in X"
   ]
  },
  {
   "cell_type": "code",
   "execution_count": 145,
   "id": "c739871d-9f22-4b8e-80bb-d24dade6584a",
   "metadata": {},
   "outputs": [
    {
     "data": {
      "text/plain": [
       "True"
      ]
     },
     "execution_count": 145,
     "metadata": {},
     "output_type": "execute_result"
    }
   ],
   "source": [
    "70 in X"
   ]
  },
  {
   "cell_type": "code",
   "execution_count": null,
   "id": "8bea33c0-0a12-4daa-9a1d-a18a5fa8add8",
   "metadata": {},
   "outputs": [],
   "source": []
  }
 ],
 "metadata": {
  "kernelspec": {
   "display_name": "Python 3 (ipykernel)",
   "language": "python",
   "name": "python3"
  },
  "language_info": {
   "codemirror_mode": {
    "name": "ipython",
    "version": 3
   },
   "file_extension": ".py",
   "mimetype": "text/x-python",
   "name": "python",
   "nbconvert_exporter": "python",
   "pygments_lexer": "ipython3",
   "version": "3.11.7"
  }
 },
 "nbformat": 4,
 "nbformat_minor": 5
}
