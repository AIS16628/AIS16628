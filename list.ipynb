{
 "cells": [
  {
   "cell_type": "markdown",
   "id": "654b5d4d-0c3e-4449-acdf-938ab96c460a",
   "metadata": {},
   "source": [
    "#List\n",
    "Lists are used to store multiple items in a single variable.\n",
    "\n",
    "Lists are one of 4 built-in data types in Python used to store collections of data, the other 3 are Tuple, Set, and Dictionary, all with different qualities and usage."
   ]
  },
  {
   "cell_type": "code",
   "execution_count": 2,
   "id": "e1092505-1d19-4d78-9899-1918ed0432ad",
   "metadata": {},
   "outputs": [
    {
     "name": "stdout",
     "output_type": "stream",
     "text": [
      "['apple', 'banana', 'orange']\n"
     ]
    }
   ],
   "source": [
    "#Lists are created using square brackets:\n",
    "#Example\n",
    "#Create a List:\n",
    "list = [\"apple\", \"banana\", \"orange\"]\n",
    "print(list)"
   ]
  },
  {
   "cell_type": "markdown",
   "id": "a74916e5-c2f3-4930-8345-1c47761308b8",
   "metadata": {},
   "source": [
    "#List Items\n",
    "List items are ordered, changeable, and allow duplicate values.\n",
    "\n",
    "List items are indexed, the first item has index [0], the second item has index [1] etc.\n",
    "\n",
    "#Ordered\n",
    "When we say that lists are ordered, it means that the items have a defined order, and that order will not change.\n",
    "\n",
    "If you add new items to a list, the new items will be placed at the end of the list.\n",
    "\n",
    "Note: There are some list methods that will change the order, but in general: the order of the items will not change.\n",
    "\n",
    "#Changeable\n",
    "The list is changeable, meaning that we can change, add, and remove items in a list after it has been created.\n",
    "\n"
   ]
  },
  {
   "cell_type": "code",
   "execution_count": 3,
   "id": "1211c1db-2454-483a-bd92-620e2678a474",
   "metadata": {},
   "outputs": [
    {
     "name": "stdout",
     "output_type": "stream",
     "text": [
      "['apple', 'banana', 'orange', 'apple', 'orange']\n"
     ]
    }
   ],
   "source": [
    "#Allow Duplicates\n",
    "#Since lists are indexed, lists can have items with the same value:\n",
    "#Example\n",
    "#Lists allow duplicate values:\n",
    "list = [\"apple\", \"banana\", \"orange\", \"apple\", \"orange\"]\n",
    "print(list)\n"
   ]
  },
  {
   "cell_type": "code",
   "execution_count": 5,
   "id": "5297a87b-7c3f-4efa-8f31-a881d93dde75",
   "metadata": {},
   "outputs": [
    {
     "name": "stdout",
     "output_type": "stream",
     "text": [
      "3\n"
     ]
    }
   ],
   "source": [
    "#List Length\n",
    "#To determine how many items a list has, use the len() function:\n",
    "#Example\n",
    "#Print the number of items in the list:\n",
    "list = [\"apple\", \"banana\", \"orange\"]\n",
    "print(len(list))"
   ]
  },
  {
   "cell_type": "code",
   "execution_count": 9,
   "id": "e69e1dc7-bafe-4a1e-991a-eaae3ffac42a",
   "metadata": {},
   "outputs": [
    {
     "name": "stdout",
     "output_type": "stream",
     "text": [
      "['apple', 'banana', 'cherry']\n",
      "[1, 5, 7, 9, 3]\n",
      "[True, False, False]\n"
     ]
    }
   ],
   "source": [
    "#List Items - Data Types\n",
    "#List items can be of any data type:\n",
    "#Example\n",
    "#String, int and boolean data types:\n",
    "list1 = [\"apple\", \"banana\", \"orange\"]\n",
    "list2 = [1, 5, 7, 9, 3]\n",
    "list3 = [True, False, False]\n",
    "print(list1)\n",
    "print(list2)\n",
    "print(list3)"
   ]
  },
  {
   "cell_type": "code",
   "execution_count": 11,
   "id": "b24a432e-b7aa-46f8-a390-7923676ba582",
   "metadata": {},
   "outputs": [
    {
     "name": "stdout",
     "output_type": "stream",
     "text": [
      "['abc', 34, True, 40, 'male']\n"
     ]
    }
   ],
   "source": [
    "#A list can contain different data types:\n",
    "\n",
    "#Example\n",
    "#A list with strings, integers and boolean values:\n",
    "\n",
    "list1 = [\"abc\", 34, True, 40, \"male\"]\n",
    "print(list1)"
   ]
  },
  {
   "cell_type": "code",
   "execution_count": 1,
   "id": "ca930c46-7472-46f9-b7aa-0a807c489029",
   "metadata": {},
   "outputs": [
    {
     "name": "stdout",
     "output_type": "stream",
     "text": [
      "<class 'list'>\n"
     ]
    }
   ],
   "source": [
    "#type()\n",
    "#From Python's perspective, lists are defined as objects with the data type 'list':\n",
    "#<class 'list'>\n",
    "#Example\n",
    "mylist = [\"apple\", \"banana\", \"orange\"]\n",
    "print(type(mylist))"
   ]
  },
  {
   "cell_type": "code",
   "execution_count": 3,
   "id": "918aa2a5-a366-4f39-9dd4-1924063ed214",
   "metadata": {},
   "outputs": [
    {
     "name": "stdout",
     "output_type": "stream",
     "text": [
      "['apple', 'banana', 'orange']\n"
     ]
    }
   ],
   "source": [
    "#The list() Constructor\n",
    "#It is also possible to use the list() constructor when creating a new list.\n",
    "\n",
    "#Example\n",
    "#Using the list() constructor to make a List:\n",
    "\n",
    "thislist = list((\"apple\", \"banana\", \"orange\")) # note the double round-brackets\n",
    "print(thislist)\n",
    "\n",
    "\n"
   ]
  },
  {
   "cell_type": "code",
   "execution_count": null,
   "id": "b4b417f5-a029-4cc2-9d2b-99149d87a3ee",
   "metadata": {},
   "outputs": [],
   "source": []
  }
 ],
 "metadata": {
  "kernelspec": {
   "display_name": "Python 3 (ipykernel)",
   "language": "python",
   "name": "python3"
  },
  "language_info": {
   "codemirror_mode": {
    "name": "ipython",
    "version": 3
   },
   "file_extension": ".py",
   "mimetype": "text/x-python",
   "name": "python",
   "nbconvert_exporter": "python",
   "pygments_lexer": "ipython3",
   "version": "3.11.7"
  }
 },
 "nbformat": 4,
 "nbformat_minor": 5
}
